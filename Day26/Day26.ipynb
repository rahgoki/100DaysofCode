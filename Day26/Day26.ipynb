{
 "cells": [
  {
   "cell_type": "markdown",
   "metadata": {},
   "source": [
    "### Day 26!  Today we continue work with error handling.\n",
    "\n",
    "I'm not currently working on any specific project.  I will reuse the urlretreive portion of [Day 5](https://github.com/rahgoki/100DaysofCode/blob/master/Day05/) just to get a known specific error to catch.  \n",
    "\n",
    "Since we are using urlretreive, we will also use [urllib.error](https://docs.python.org/3/library/urllib.error.html#urllib.error.HTTPError)."
   ]
  },
  {
   "cell_type": "code",
   "execution_count": 1,
   "metadata": {
    "collapsed": true
   },
   "outputs": [],
   "source": [
    "from urllib.request import urlretrieve\n",
    "import urllib.error"
   ]
  },
  {
   "cell_type": "code",
   "execution_count": 2,
   "metadata": {
    "collapsed": true
   },
   "outputs": [],
   "source": [
    "url = 'https://raw.githubusercontent.com/pybites/challenges/solutions/13/movie_metadata.csv'"
   ]
  },
  {
   "cell_type": "code",
   "execution_count": 3,
   "metadata": {
    "collapsed": true
   },
   "outputs": [],
   "source": [
    "file_name = 'movies.csv'"
   ]
  },
  {
   "cell_type": "code",
   "execution_count": 5,
   "metadata": {},
   "outputs": [],
   "source": [
    "try:\n",
    "    urlretrieve(url, file_name)\n",
    "    \n",
    "except urllib.error.URLError:\n",
    "    print(\"There is an issue with the URL\")\n",
    "\n",
    "except Exception as e:\n",
    "    print(e)"
   ]
  },
  {
   "cell_type": "markdown",
   "metadata": {},
   "source": [
    "---\n",
    "That ran without errors...let's leave off something in our url and see what happens."
   ]
  },
  {
   "cell_type": "code",
   "execution_count": 6,
   "metadata": {
    "collapsed": true
   },
   "outputs": [],
   "source": [
    "url = 'https://aw.githubusercontent.com/pybites/challenges/solutions/13/movie_metadata.csv'"
   ]
  },
  {
   "cell_type": "code",
   "execution_count": 7,
   "metadata": {},
   "outputs": [
    {
     "name": "stdout",
     "output_type": "stream",
     "text": [
      "There is an issue with the URL\n"
     ]
    }
   ],
   "source": [
    "try:\n",
    "    urlretrieve(url, file_name)\n",
    "    \n",
    "except urllib.error.URLError:\n",
    "    print(\"There is an issue with the URL\")\n",
    "\n",
    "except Exception as e:\n",
    "    print(e)"
   ]
  },
  {
   "cell_type": "markdown",
   "metadata": {},
   "source": [
    "---\n",
    "Perfect!  Maybe the project isn't dependent on this file and we can continue on.  Knowing that in advance allows us to acknowledge the error and say it's not that important, we can continue on.  \n",
    "\n",
    "If we left evertyhing up to the general exception, we we would need to continue or terminate on each error - which isn't good design!"
   ]
  }
 ],
 "metadata": {
  "kernelspec": {
   "display_name": "Python 3",
   "language": "python",
   "name": "python3"
  },
  "language_info": {
   "codemirror_mode": {
    "name": "ipython",
    "version": 3
   },
   "file_extension": ".py",
   "mimetype": "text/x-python",
   "name": "python",
   "nbconvert_exporter": "python",
   "pygments_lexer": "ipython3",
   "version": "3.6.3"
  }
 },
 "nbformat": 4,
 "nbformat_minor": 2
}
