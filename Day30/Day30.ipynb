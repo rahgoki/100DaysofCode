{
 "cells": [
  {
   "cell_type": "markdown",
   "metadata": {},
   "source": [
    "### Day 30!  It's hard to believe, but 1 month down!  \n",
    "\n",
    "Let's continue on with regex by working on [bite 2](https://codechalleng.es/bites/2/)"
   ]
  },
  {
   "cell_type": "code",
   "execution_count": 1,
   "metadata": {
    "collapsed": true
   },
   "outputs": [],
   "source": [
    "import re"
   ]
  },
  {
   "cell_type": "code",
   "execution_count": 2,
   "metadata": {
    "collapsed": true
   },
   "outputs": [],
   "source": [
    "classString = ('Introduction 1 Lecture 01:47'\n",
    "                    'The Basics 4 Lectures 32:03'\n",
    "                    'Getting Technical!  4 Lectures 41:51'\n",
    "                    'Challenge 2 Lectures 27:48'\n",
    "                    'Afterword 1 Lecture 05:02')"
   ]
  },
  {
   "cell_type": "markdown",
   "metadata": {},
   "source": [
    "---\n",
    "\n",
    "\"\"\"Write a regular expression that returns a list of timestamps\"\"\""
   ]
  },
  {
   "cell_type": "code",
   "execution_count": 3,
   "metadata": {},
   "outputs": [
    {
     "data": {
      "text/plain": [
       "['01:47', '32:03', '41:51', '27:48', '05:02']"
      ]
     },
     "execution_count": 3,
     "metadata": {},
     "output_type": "execute_result"
    }
   ],
   "source": [
    "re.findall(r'\\d+:\\d+', classString)"
   ]
  },
  {
   "cell_type": "markdown",
   "metadata": {},
   "source": [
    "---\n",
    "This one is a bit specific and wouldn't necessarily find ALL of the URL's, but it works for the challenge.\n",
    "\n",
    "\"\"\"Write a regular expression that returns this list:\n",
    "       ['http://pybit.es/requests-cache.html', '#python', '#APIs']\"\"\""
   ]
  },
  {
   "cell_type": "code",
   "execution_count": 4,
   "metadata": {
    "collapsed": true
   },
   "outputs": [],
   "source": [
    "tweet = ('New PyBites article: Module of the Week - Requests-cache '\n",
    "             'for Repeated API Calls - http://pybit.es/requests-cache.html '\n",
    "             '#python #APIs')"
   ]
  },
  {
   "cell_type": "code",
   "execution_count": 5,
   "metadata": {},
   "outputs": [
    {
     "data": {
      "text/plain": [
       "['http://pybit.es/requests-cache.html', '#python', '#APIs']"
      ]
     },
     "execution_count": 5,
     "metadata": {},
     "output_type": "execute_result"
    }
   ],
   "source": [
    "re.findall(r'#\\w+|\\w+:\\//\\w+\\.\\w+\\W+\\w+\\W+\\w+\\.\\w+', tweet)"
   ]
  },
  {
   "cell_type": "markdown",
   "metadata": {},
   "source": [
    "---\n",
    "\n",
    "\"\"\"Write a regular expression that returns  'pybites != greedy' \"\"\""
   ]
  },
  {
   "cell_type": "code",
   "execution_count": 6,
   "metadata": {
    "collapsed": true
   },
   "outputs": [],
   "source": [
    "html = ('<p>pybites != greedy</p>'\n",
    "            '<p>not the same can be said REgarding ...</p>')"
   ]
  },
  {
   "cell_type": "code",
   "execution_count": 7,
   "metadata": {},
   "outputs": [
    {
     "data": {
      "text/plain": [
       "['pybites != greedy']"
      ]
     },
     "execution_count": 7,
     "metadata": {},
     "output_type": "execute_result"
    }
   ],
   "source": [
    "re.findall(r'\\w*\\s+\\W{2}\\s\\w+', html)"
   ]
  }
 ],
 "metadata": {
  "kernelspec": {
   "display_name": "Python 3",
   "language": "python",
   "name": "python3"
  },
  "language_info": {
   "codemirror_mode": {
    "name": "ipython",
    "version": 3
   },
   "file_extension": ".py",
   "mimetype": "text/x-python",
   "name": "python",
   "nbconvert_exporter": "python",
   "pygments_lexer": "ipython3",
   "version": "3.6.3"
  }
 },
 "nbformat": 4,
 "nbformat_minor": 2
}
