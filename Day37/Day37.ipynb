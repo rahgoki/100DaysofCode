{
 "cells": [
  {
   "cell_type": "markdown",
   "metadata": {},
   "source": [
    "### Day 37!  The next 3 days focuses on working with csv data.\n",
    "\n",
    "I followed along with most of the tutorial using the builtin csv handling tools, but focused primarily on recreating the same results using Pandas.  This notebook is the Pandas portion, check out program.py and research.py for the builtin version.  \n",
    "\n",
    "I left off the date that each max/min occurred simply to save time.  The nice thing is that Pandas converts the datatypes automagically!  We then can use the [nlargest](https://pandas.pydata.org/pandas-docs/stable/generated/pandas.Series.nlargest.html) method to find our max temps.   "
   ]
  },
  {
   "cell_type": "code",
   "execution_count": 1,
   "metadata": {
    "collapsed": true
   },
   "outputs": [],
   "source": [
    "import pandas as pd"
   ]
  },
  {
   "cell_type": "code",
   "execution_count": 2,
   "metadata": {
    "collapsed": true
   },
   "outputs": [],
   "source": [
    "data = pd.read_csv('seattle.csv')"
   ]
  },
  {
   "cell_type": "code",
   "execution_count": 3,
   "metadata": {},
   "outputs": [
    {
     "data": {
      "text/plain": [
       "date                      object\n",
       "actual_mean_temp           int64\n",
       "actual_min_temp            int64\n",
       "actual_max_temp            int64\n",
       "average_min_temp           int64\n",
       "average_max_temp           int64\n",
       "record_min_temp            int64\n",
       "record_max_temp            int64\n",
       "record_min_temp_year       int64\n",
       "record_max_temp_year       int64\n",
       "actual_precipitation     float64\n",
       "average_precipitation    float64\n",
       "record_precipitation     float64\n",
       "dtype: object"
      ]
     },
     "execution_count": 3,
     "metadata": {},
     "output_type": "execute_result"
    }
   ],
   "source": [
    "data.dtypes"
   ]
  },
  {
   "cell_type": "code",
   "execution_count": 4,
   "metadata": {},
   "outputs": [
    {
     "name": "stdout",
     "output_type": "stream",
     "text": [
      "1. 96 F\n",
      "2. 94 F\n",
      "3. 92 F\n",
      "4. 91 F\n",
      "5. 90 F\n"
     ]
    }
   ],
   "source": [
    "for idx, _ in enumerate(data['actual_max_temp'].nlargest(5)):\n",
    "    print(f'{idx+1}. {_} F')"
   ]
  },
  {
   "cell_type": "code",
   "execution_count": 5,
   "metadata": {},
   "outputs": [
    {
     "name": "stdout",
     "output_type": "stream",
     "text": [
      "1. 37 F\n",
      "2. 38 F\n",
      "3. 38 F\n",
      "4. 40 F\n",
      "5. 40 F\n"
     ]
    }
   ],
   "source": [
    "for idx, _ in enumerate(data['actual_max_temp'].nsmallest(5)):\n",
    "    print(f'{idx+1}. {_} F')"
   ]
  },
  {
   "cell_type": "code",
   "execution_count": 6,
   "metadata": {},
   "outputs": [
    {
     "name": "stdout",
     "output_type": "stream",
     "text": [
      "1. 2.2 inches of rain\n",
      "2. 1.35 inches of rain\n",
      "3. 1.26 inches of rain\n",
      "4. 1.03 inches of rain\n",
      "5. 1.03 inches of rain\n"
     ]
    }
   ],
   "source": [
    "for idx, _ in enumerate(data['actual_precipitation'].nlargest(5)):\n",
    "    print(f'{idx+1}. {_} inches of rain')"
   ]
  },
  {
   "cell_type": "code",
   "execution_count": null,
   "metadata": {
    "collapsed": true
   },
   "outputs": [],
   "source": []
  }
 ],
 "metadata": {
  "kernelspec": {
   "display_name": "Python 3",
   "language": "python",
   "name": "python3"
  },
  "language_info": {
   "codemirror_mode": {
    "name": "ipython",
    "version": 3
   },
   "file_extension": ".py",
   "mimetype": "text/x-python",
   "name": "python",
   "nbconvert_exporter": "python",
   "pygments_lexer": "ipython3",
   "version": "3.6.3"
  }
 },
 "nbformat": 4,
 "nbformat_minor": 2
}
