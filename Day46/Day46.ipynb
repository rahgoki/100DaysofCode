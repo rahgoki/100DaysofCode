{
 "cells": [
  {
   "cell_type": "markdown",
   "metadata": {},
   "source": [
    "## Day 46 - Beautiful Soup\n",
    "\n",
    "* Corey Schafer [video](https://www.youtube.com/watch?v=N5vscPTWKOk&vl=en) on virtual environments.\n",
    "\n",
    "* Virtualenv [docs](https://virtualenv.pypa.io/en/stable/userguide/#usage).\n",
    "\n",
    "* Beautiful Soup [docs](https://www.crummy.com/software/BeautifulSoup/bs4/doc/). \n"
   ]
  },
  {
   "cell_type": "code",
   "execution_count": 1,
   "metadata": {},
   "outputs": [],
   "source": [
    "import requests\n",
    "import bs4"
   ]
  },
  {
   "cell_type": "code",
   "execution_count": 2,
   "metadata": {},
   "outputs": [],
   "source": [
    "url = 'https://pybit.es/pages/projects.html'"
   ]
  },
  {
   "cell_type": "markdown",
   "metadata": {},
   "source": [
    "---\n",
    "Using requests, we store the html in a variable called raw_site.  raise_for_status() will give us a warning if there is an issue with the url.  If we left that line out, whatever gets returned is stored and it could create issues further down the pipeline. "
   ]
  },
  {
   "cell_type": "code",
   "execution_count": 3,
   "metadata": {},
   "outputs": [],
   "source": [
    "raw_site = requests.get(url)\n",
    "raw_site.raise_for_status()"
   ]
  },
  {
   "cell_type": "markdown",
   "metadata": {},
   "source": [
    "---\n",
    "Select will select the CSS class that we pass it.  In this case, class=\"projectHeader\" is what we're looking for.  The syntax is just a \".\" in front of our class name."
   ]
  },
  {
   "cell_type": "code",
   "execution_count": 4,
   "metadata": {},
   "outputs": [],
   "source": [
    "header_list = []\n",
    "soup = bs4.BeautifulSoup(raw_site.text, 'html.parser')\n",
    "html_header = soup.select('.projectHeader')"
   ]
  },
  {
   "cell_type": "markdown",
   "metadata": {},
   "source": [
    "---\n",
    "Select will grab everything in the H3 tag.  Since we only want the titles, we'll use getText()\n",
    "\n",
    "![title](img/projectHeader.png)"
   ]
  },
  {
   "cell_type": "code",
   "execution_count": 5,
   "metadata": {},
   "outputs": [
    {
     "name": "stdout",
     "output_type": "stream",
     "text": [
      "<h3 class=\"projectHeader\">0. PyBites Apps (first 100 days)</h3>\n",
      "<h3 class=\"projectHeader\">1. #100DaysOfCode (Mar 30, 2017 - Jul 07, 2017)</h3>\n",
      "<h3 class=\"projectHeader\">2. #100DaysOfDjango (Jul 08, 2017 - Oct 15, 2017)</h3>\n",
      "<h3 class=\"projectHeader\">3. PyBites Code Challenges Platform (Oct 16, 2017 - Jan 23, 2018)</h3>\n",
      "<h3 class=\"projectHeader\">4. PyBites Community #100DaysOfCode (Jan 24, 2017 - May 03, 2018)</h3>\n"
     ]
    }
   ],
   "source": [
    "for header in html_header:\n",
    "    print(header)"
   ]
  },
  {
   "cell_type": "code",
   "execution_count": 6,
   "metadata": {},
   "outputs": [],
   "source": [
    "for header in html_header:\n",
    "    header_list.append(header.getText())"
   ]
  },
  {
   "cell_type": "markdown",
   "metadata": {},
   "source": [
    "---\n",
    "Now that looks much better!"
   ]
  },
  {
   "cell_type": "code",
   "execution_count": 7,
   "metadata": {},
   "outputs": [
    {
     "name": "stdout",
     "output_type": "stream",
     "text": [
      "0. PyBites Apps (first 100 days)\n",
      "1. #100DaysOfCode (Mar 30, 2017 - Jul 07, 2017)\n",
      "2. #100DaysOfDjango (Jul 08, 2017 - Oct 15, 2017)\n",
      "3. PyBites Code Challenges Platform (Oct 16, 2017 - Jan 23, 2018)\n",
      "4. PyBites Community #100DaysOfCode (Jan 24, 2017 - May 03, 2018)\n"
     ]
    }
   ],
   "source": [
    "for header in header_list:\n",
    "    print(header)"
   ]
  },
  {
   "cell_type": "markdown",
   "metadata": {},
   "source": [
    "---\n",
    "Let's try another URL."
   ]
  },
  {
   "cell_type": "code",
   "execution_count": 8,
   "metadata": {},
   "outputs": [],
   "source": [
    "url = 'https://pybit.es/pages/articles.html'"
   ]
  },
  {
   "cell_type": "code",
   "execution_count": 9,
   "metadata": {},
   "outputs": [],
   "source": [
    "raw_site = requests.get(url)\n",
    "raw_site.raise_for_status()"
   ]
  },
  {
   "cell_type": "code",
   "execution_count": 10,
   "metadata": {},
   "outputs": [],
   "source": [
    "articleList = []\n",
    "soup = bs4.BeautifulSoup(raw_site.text, 'html.parser')\n",
    "html_header = soup.select('.articleList')"
   ]
  },
  {
   "cell_type": "code",
   "execution_count": 11,
   "metadata": {},
   "outputs": [],
   "source": [
    "for header in html_header:\n",
    "    articleList.append(header.getText())"
   ]
  },
  {
   "cell_type": "markdown",
   "metadata": {},
   "source": [
    "---\n",
    "\n",
    "That's an impressive list! "
   ]
  },
  {
   "cell_type": "code",
   "execution_count": 12,
   "metadata": {},
   "outputs": [
    {
     "name": "stdout",
     "output_type": "stream",
     "text": [
      "\n",
      "A Short Primer on Assembers, Compilers and Interpreters\n",
      "Persistent Virtualenv Environment Variables with python-dotenv\n",
      "You don't need to be a Pro @ Python to crack the code of Pycon\n",
      "Career Development for Programmers\n",
      "A Python Orientation - How to Get Started\n",
      "How Promotions work in Large Corporations\n",
      "Why Python is Great for Test Automation\n",
      "My Anaconda Workflow: Python environment and package management made easy\n",
      "Watch Me Code - Solving Bite 21. Query a Nested Data Structure\n",
      "Why Python is so popular in Devops?\n",
      "How Encoding Works in Python\n",
      "Enough pytest to be Dangerous, 10 Things I Learned Writing Tests for 100 Python (Bites of Py) Exercises\n",
      "Pushing the Packt \"free book of the day\" to the world with Scrapy and Alexa\n",
      "PyCon 2018 - My First PyCon\n",
      "CodeChalleng.es Platform Update 26-Mar-2018\n",
      "All You Need to Know to Start Using Fixtures in Your pytest Code\n",
      "Using Feedparser, Difflib and Plotly to Analyze PyBites Blog Tags\n",
      "PyBites 1 Year Special - Taking Python Code Challenges to the Next Level …\n",
      "DisAtBot - How I Built a Chatbot With Telegram And Python\n",
      "Using Pandas and Seaborn to solve PyBites Marvel Challenge\n",
      "5 Things we Learned Co-hosting a Live Code Challenge Workshop\n",
      "Bootstrap Your Next Python Project With Cookiecutter\n",
      "How to Use Pdb to Debug Your Code\n",
      "Learning Python Decorators by Example\n",
      "Python Testing With Pytest\n",
      "How to Learn Python\n",
      "PyBites Module of the Week: Openpyxl - Automate Excel!\n",
      "Hiding BCC Recipients in Python MIME Emails\n",
      "Improve the Quality of Your Code with Better Code Hub\n",
      "Fully Automate Login and Banner Generation with Selenium, Requests and Click\n",
      "Making a Banner Generator With Pillow and Flask\n",
      "Learning Flask v Learning Django\n",
      "Using Pillow to Create Nice Banners For Your Site\n",
      "A Step by Step Guide to Implementing and Deploying Two-Phase Registration in Django\n",
      "PyBites Module of the Week - Pexpect\n",
      "Deploying a Django App to PythonAnywhere\n",
      "Step-by-Step Guide on Deploying a Simple Flask App to Heroku\n",
      "First Steps Learning Django: PyPlanet Article Sharer App\n",
      "The Importance of Refactoring Code\n",
      "200 Days of PyBites, 100 Days of Code and our Next Project\n",
      "From Challenge to Project - How I Made PyTrack, Learning Modules and Packaging\n",
      "Flask Web Server Port Mapping\n",
      "From Script to Project - Packaging Your Code in Python\n",
      "Building a Karma Bot with Python and the Slack API\n",
      "PyBites Module of the Week - Pendulum\n",
      "Parsing Twitter Geo Data and Mocking API Calls by Example\n",
      "How to Write a Python Subclass\n",
      "Using Python Requests on a Page Behind a Login\n",
      "Next Time I Will Use Pandas to Parse Html Tables\n",
      "Flask Sessions\n",
      "OOP Beyond the Basics: Using Properties for Encapsulation, Computation and Refactoring\n",
      "How to Write a Python Class\n",
      "PyCon 2017 - Digest, Impressions, Reflection\n",
      "How to Create Your Own Steam Game Release Notifier\n",
      "How to Parse Common Data Formats in Python\n",
      "Building a Simple Birthday App with Flask-SQLAlchemy\n",
      "Learning Python by Building a Wisdom Quotes App\n",
      "How to Download an XML File with Python\n",
      "The making of my Task Manager App for the PyBites Code Challenge\n",
      "Learn Python by Coding for Yourself\n",
      "How to Write a Simple Slack Bot to Monitor Your Brand on Twitter\n",
      "Simple Flask app to compare the weather of 2 cities\n",
      "Behind the Scenes of PyBites - a Blog for Passionate Pythonistas (Post #100 Special)\n",
      "Beginning Flask\n",
      "How to Write a Decorator with an Optional Argument?\n",
      "Flask for Loops - Printing Dict Data\n",
      "How we Automated our 100DaysOfCode Daily Tweet\n",
      "How to Build a Simple Slack Bot\n",
      "100 Days of PyBites, 100 Days of Code\n",
      "5 Vim Tricks to Speed up Your Python Development\n",
      "PyBites Module of the Week - ipaddress\n",
      "Best Practices for Compatible Python 2 and 3 Code\n",
      "Generators are Awesome, Learning by Example\n",
      "10 Tips to Get More out of Your Regexes\n",
      "PyBites Module of the Week - Requests-cache for Repeated API Calls\n",
      "Simple API Part 2 - Building a Deep Work Logger with Flask, Slack and Google Docs\n",
      "Comparing Lists with Difflib\n",
      "Don't let mutability of compound objects fool you!\n",
      "How To Build a Simple API with Flask and Unit Test it\n",
      "Pythonic String Formatting\n",
      "I have been coding in Python for years and I still ...\n",
      "Write Pythonic Code Like a Seasoned Developer Review\n",
      "5 tips to speed up your Python code\n",
      "How to Order Dict Output in Python\n",
      "Shelve It!\n",
      "Visualizing website and social media metrics with matplotlib [notebook]\n",
      "From beginner to pro: Python books, videos and resources\n",
      "Discover Python Help Options\n",
      "Send Advanced Emails with Python MIME Submodules\n",
      "Python Tricks book review\n",
      "Send Emails with Python smtplib\n",
      "Python's data model by example\n",
      "Everything is an Object, Python OOP primer\n",
      "Python Iteration\n",
      "Errors should never pass silently\n",
      "List of Awesome Python Resources\n",
      "5 cool things you can do with itertools\n",
      "Create a Simple Web Scraper with BeautifulSoup4\n",
      "Beautiful, idiomatic Python\n",
      "Copy and Paste with Pyperclip\n",
      "Code Challenge Pilot - code review\n",
      "Code Challenge Pilot - calculate total time JS course\n",
      "A great book that makes algorithms accessible\n",
      "5 min guide to PEP8\n",
      "Python Naming Conventions\n",
      "3.6 new features\n",
      "Don't Let Indentation Catch You Out\n",
      "Automate Tweeting: how to build a Twitterbot\n",
      "Learning from Python mistakes\n",
      "How to create a nice-looking HTML page of your Kindle book highlights (notes)\n",
      "A Quick Automate the Boring Stuff Review\n",
      "Zip and ship, make an executable zipfile of your py project\n",
      "Get a weekly digest from a Pelican blog\n",
      "2016 py articles and useful books\n",
      "The Beauty of Python Virtualenvs\n",
      "Read the stdlib: deque\n",
      "How to get PyBites up and running on your machine\n",
      "__init__\n",
      "\n"
     ]
    }
   ],
   "source": [
    "for article in articleList:\n",
    "    print(article)"
   ]
  },
  {
   "cell_type": "markdown",
   "metadata": {},
   "source": [
    "---\n",
    "Let's look at some cool features of the soup object!\n",
    "\n",
    "The searching by tag with the syntax soup.(tagName) returns the first instance of that tag that it finds. "
   ]
  },
  {
   "cell_type": "code",
   "execution_count": 13,
   "metadata": {},
   "outputs": [
    {
     "data": {
      "text/plain": [
       "<ul class=\"list\">\n",
       "<li><a href=\"/pages/about.html\">About</a></li>\n",
       "<li><a href=\"/pages/articles.html\">Articles</a></li>\n",
       "<li><a href=\"/pages/challenges.html\">Code Challenges</a></li>\n",
       "<li><a href=\"/pages/courses.html\">#100DaysOfCode</a></li>\n",
       "<li><a href=\"/pages/news.html\">Python News</a></li>\n",
       "<li><a href=\"/pages/search.html\">Search</a></li>\n",
       "</ul>"
      ]
     },
     "execution_count": 13,
     "metadata": {},
     "output_type": "execute_result"
    }
   ],
   "source": [
    "soup.ul"
   ]
  },
  {
   "cell_type": "markdown",
   "metadata": {},
   "source": [
    "---\n",
    "Find_all is a little better, but we get all kinds of stuff that we don't want.  "
   ]
  },
  {
   "cell_type": "code",
   "execution_count": 14,
   "metadata": {},
   "outputs": [
    {
     "data": {
      "text/plain": [
       "[<ul class=\"list\">\n",
       " <li><a href=\"/pages/about.html\">About</a></li>\n",
       " <li><a href=\"/pages/articles.html\">Articles</a></li>\n",
       " <li><a href=\"/pages/challenges.html\">Code Challenges</a></li>\n",
       " <li><a href=\"/pages/courses.html\">#100DaysOfCode</a></li>\n",
       " <li><a href=\"/pages/news.html\">Python News</a></li>\n",
       " <li><a href=\"/pages/search.html\">Search</a></li>\n",
       " </ul>, <ul class=\"social\">\n",
       " <li><a href=\"https://twitter.com/pybites\" target=\"_blank\"><img alt=\"Follow us on Twitter\" src=\"https://pybit.es/theme/img/socialmedia/twitter.png\"/></a></li>\n",
       " <li><a href=\"https://github.com/pybites/\" target=\"_blank\"><img alt=\"Follow us on Github\" src=\"https://pybit.es/theme/img/socialmedia/github.png\"/></a></li>\n",
       " <li><a href=\"https://instagram.com/pybites\" target=\"_blank\"><img alt=\"Follow us on Instagram\" src=\"https://pybit.es/theme/img/socialmedia/instagram.png\"/></a></li>\n",
       " <li><a href=\"https://www.youtube.com/channel/UCBn-uKDGsRBfcB0lQeOB_gA\" target=\"_blank\"><img alt=\"Follow us on Youtube\" src=\"https://pybit.es/theme/img/socialmedia/youtube.png\"/></a></li>\n",
       " <li><a href=\"https://www.facebook.com/groups/pybites/\" target=\"_blank\"><img alt=\"Follow us on Facebook\" src=\"https://pybit.es/theme/img/socialmedia/facebook.png\"/></a></li>\n",
       " </ul>, <ul class=\"articleList\" id=\"articleList\">\n",
       " <li><a href=\"https://pybit.es/python-interpreters.html\">A Short Primer on Assembers, Compilers and Interpreters</a></li>\n",
       " <li><a href=\"https://pybit.es/persistent-environment-variables.html\">Persistent Virtualenv Environment Variables with python-dotenv</a></li>\n",
       " <li><a href=\"https://pybit.es/howto-crack-pycon.html\">You don't need to be a Pro @ Python to crack the code of Pycon</a></li>\n",
       " <li><a href=\"https://pybit.es/career-development-programmers.html\">Career Development for Programmers</a></li>\n",
       " <li><a href=\"https://pybit.es/guest-python-orientation.html\">A Python Orientation - How to Get Started</a></li>\n",
       " <li><a href=\"https://pybit.es/guest-promotions-large-corporations.html\">How Promotions work in Large Corporations</a></li>\n",
       " <li><a href=\"https://pybit.es/guest-python-test-automation.html\">Why Python is Great for Test Automation</a></li>\n",
       " <li><a href=\"https://pybit.es/guest-anaconda-workflow.html\">My Anaconda Workflow: Python environment and package management made easy</a></li>\n",
       " <li><a href=\"https://pybit.es/nested-data-structure-exercise.html\">Watch Me Code - Solving Bite 21. Query a Nested Data Structure</a></li>\n",
       " <li><a href=\"https://pybit.es/python-and-devops.html\">Why Python is so popular in Devops?</a></li>\n",
       " <li><a href=\"https://pybit.es/python-encodings.html\">How Encoding Works in Python</a></li>\n",
       " <li><a href=\"https://pybit.es/pytest-coding-100-tests.html\">Enough pytest to be Dangerous, 10 Things I Learned Writing Tests for 100 Python (Bites of Py) Exercises</a></li>\n",
       " <li><a href=\"https://pybit.es/guest-scrapy-packt-alexa.html\">Pushing the Packt \"free book of the day\" to the world with Scrapy and Alexa</a></li>\n",
       " <li><a href=\"https://pybit.es/pycon-2018.html\">PyCon 2018 - My First PyCon</a></li>\n",
       " <li><a href=\"https://pybit.es/platform_update_20180326.html\">CodeChalleng.es Platform Update 26-Mar-2018</a></li>\n",
       " <li><a href=\"https://pybit.es/pytest-fixtures.html\">All You Need to Know to Start Using Fixtures in Your pytest Code</a></li>\n",
       " <li><a href=\"https://pybit.es/guest-pybites-blog-tag-analysis-plotly.html\">Using Feedparser, Difflib and Plotly to Analyze PyBites Blog Tags</a></li>\n",
       " <li><a href=\"https://pybit.es/special-birthday-new-platform.html\">PyBites 1 Year Special - Taking Python Code Challenges to the Next Level …</a></li>\n",
       " <li><a href=\"https://pybit.es/guest-telegram-python-chatbot.html\">DisAtBot - How I Built a Chatbot With Telegram And Python</a></li>\n",
       " <li><a href=\"https://pybit.es/guest-marvel-data-analysis.html\">Using Pandas and Seaborn to solve PyBites Marvel Challenge</a></li>\n",
       " <li><a href=\"https://pybit.es/alicante-pychallengeday.html\">5 Things we Learned Co-hosting a Live Code Challenge Workshop</a></li>\n",
       " <li><a href=\"https://pybit.es/python-cookiecutter.html\">Bootstrap Your Next Python Project With Cookiecutter</a></li>\n",
       " <li><a href=\"https://pybit.es/pdb-debugger.html\">How to Use Pdb to Debug Your Code</a></li>\n",
       " <li><a href=\"https://pybit.es/decorators-by-example.html\">Learning Python Decorators by Example</a></li>\n",
       " <li><a href=\"https://pybit.es/pytest-book.html\">Python Testing With Pytest</a></li>\n",
       " <li><a href=\"https://pybit.es/special-learning-python.html\">How to Learn Python</a></li>\n",
       " <li><a href=\"https://pybit.es/python-openpyxl.html\">PyBites Module of the Week: Openpyxl - Automate Excel!</a></li>\n",
       " <li><a href=\"https://pybit.es/python-MIME-bcc.html\">Hiding BCC Recipients in Python MIME Emails</a></li>\n",
       " <li><a href=\"https://pybit.es/bettercodehub.html\">Improve the Quality of Your Code with Better Code Hub</a></li>\n",
       " <li><a href=\"https://pybit.es/selenium-requests-automation.html\">Fully Automate Login and Banner Generation with Selenium, Requests and Click</a></li>\n",
       " <li><a href=\"https://pybit.es/pillow-banner-flask.html\">Making a Banner Generator With Pillow and Flask</a></li>\n",
       " <li><a href=\"https://pybit.es/learning-flask-django.html\">Learning Flask v Learning Django</a></li>\n",
       " <li><a href=\"https://pybit.es/pillow-banner-image.html\">Using Pillow to Create Nice Banners For Your Site</a></li>\n",
       " <li><a href=\"https://pybit.es/django-registration-app.html\">A Step by Step Guide to Implementing and Deploying Two-Phase Registration in Django</a></li>\n",
       " <li><a href=\"https://pybit.es/pexpect.html\">PyBites Module of the Week - Pexpect</a></li>\n",
       " <li><a href=\"https://pybit.es/django-python-anywhere.html\">Deploying a Django App to PythonAnywhere</a></li>\n",
       " <li><a href=\"https://pybit.es/deploy-flask-heroku.html\">Step-by-Step Guide on Deploying a Simple Flask App to Heroku</a></li>\n",
       " <li><a href=\"https://pybit.es/learning-django.html\">First Steps Learning Django: PyPlanet Article Sharer App</a></li>\n",
       " <li><a href=\"https://pybit.es/refactoring.html\">The Importance of Refactoring Code</a></li>\n",
       " <li><a href=\"https://pybit.es/special-100days-of-code.html\">200 Days of PyBites, 100 Days of Code and our Next Project</a></li>\n",
       " <li><a href=\"https://pybit.es/guest-pytrack-app.html\">From Challenge to Project - How I Made PyTrack, Learning Modules and Packaging</a></li>\n",
       " <li><a href=\"https://pybit.es/flask-ports.html\">Flask Web Server Port Mapping</a></li>\n",
       " <li><a href=\"https://pybit.es/python-packaging.html\">From Script to Project - Packaging Your Code in Python</a></li>\n",
       " <li><a href=\"https://pybit.es/slack-karma-bot.html\">Building a Karma Bot with Python and the Slack API</a></li>\n",
       " <li><a href=\"https://pybit.es/pendulum.html\">PyBites Module of the Week - Pendulum</a></li>\n",
       " <li><a href=\"https://pybit.es/twitter-api-geodata-mocking.html\">Parsing Twitter Geo Data and Mocking API Calls by Example</a></li>\n",
       " <li><a href=\"https://pybit.es/python-subclasses.html\">How to Write a Python Subclass</a></li>\n",
       " <li><a href=\"https://pybit.es/requests-session.html\">Using Python Requests on a Page Behind a Login</a></li>\n",
       " <li><a href=\"https://pybit.es/pandas-parse-html-table.html\">Next Time I Will Use Pandas to Parse Html Tables</a></li>\n",
       " <li><a href=\"https://pybit.es/flask-sessions.html\">Flask Sessions</a></li>\n",
       " <li><a href=\"https://pybit.es/property-decorator.html\">OOP Beyond the Basics: Using Properties for Encapsulation, Computation and Refactoring</a></li>\n",
       " <li><a href=\"https://pybit.es/python-classes.html\">How to Write a Python Class</a></li>\n",
       " <li><a href=\"https://pybit.es/pycon-2017.html\">PyCon 2017 - Digest, Impressions, Reflection</a></li>\n",
       " <li><a href=\"https://pybit.es/steam-notifier.html\">How to Create Your Own Steam Game Release Notifier</a></li>\n",
       " <li><a href=\"https://pybit.es/parsing-data.html\">How to Parse Common Data Formats in Python</a></li>\n",
       " <li><a href=\"https://pybit.es/flask-sqlalchemy-bday-app.html\">Building a Simple Birthday App with Flask-SQLAlchemy</a></li>\n",
       " <li><a href=\"https://pybit.es/guest-learning-apis.html\">Learning Python by Building a Wisdom Quotes App</a></li>\n",
       " <li><a href=\"https://pybit.es/download-xml-file.html\">How to Download an XML File with Python</a></li>\n",
       " <li><a href=\"https://pybit.es/guest-making-of-task-manager.html\">The making of my Task Manager App for the PyBites Code Challenge</a></li>\n",
       " <li><a href=\"https://pybit.es/learn-by-doing.html\">Learn Python by Coding for Yourself</a></li>\n",
       " <li><a href=\"https://pybit.es/twitter-monitor-slack-notify.html\">How to Write a Simple Slack Bot to Monitor Your Brand on Twitter</a></li>\n",
       " <li><a href=\"https://pybit.es/flask-simple-weather-app.html\">Simple Flask app to compare the weather of 2 cities</a></li>\n",
       " <li><a href=\"https://pybit.es/special-building-pybites.html\">Behind the Scenes of PyBites - a Blog for Passionate Pythonistas (Post #100 Special)</a></li>\n",
       " <li><a href=\"https://pybit.es/beginning-flask.html\">Beginning Flask</a></li>\n",
       " <li><a href=\"https://pybit.es/decorator-optional-argument.html\">How to Write a Decorator with an Optional Argument?</a></li>\n",
       " <li><a href=\"https://pybit.es/flask-for-loop.html\">Flask for Loops - Printing Dict Data</a></li>\n",
       " <li><a href=\"https://pybit.es/100days-autotweet.html\">How we Automated our 100DaysOfCode Daily Tweet</a></li>\n",
       " <li><a href=\"https://pybit.es/simple-chatbot.html\">How to Build a Simple Slack Bot</a></li>\n",
       " <li><a href=\"https://pybit.es/special-100days.html\">100 Days of PyBites, 100 Days of Code</a></li>\n",
       " <li><a href=\"https://pybit.es/vim-tricks.html\">5 Vim Tricks to Speed up Your Python Development</a></li>\n",
       " <li><a href=\"https://pybit.es/ipaddress.html\">PyBites Module of the Week - ipaddress</a></li>\n",
       " <li><a href=\"https://pybit.es/python-porting.html\">Best Practices for Compatible Python 2 and 3 Code</a></li>\n",
       " <li><a href=\"https://pybit.es/generators.html\">Generators are Awesome, Learning by Example</a></li>\n",
       " <li><a href=\"https://pybit.es/mastering-regex.html\">10 Tips to Get More out of Your Regexes</a></li>\n",
       " <li><a href=\"https://pybit.es/requests-cache.html\">PyBites Module of the Week - Requests-cache for Repeated API Calls</a></li>\n",
       " <li><a href=\"https://pybit.es/flask-api-part2.html\">Simple API Part 2 - Building a Deep Work Logger with Flask, Slack and Google Docs</a></li>\n",
       " <li><a href=\"https://pybit.es/comparing_lists.html\">Comparing Lists with Difflib</a></li>\n",
       " <li><a href=\"https://pybit.es/mutability.html\">Don't let mutability of compound objects fool you!</a></li>\n",
       " <li><a href=\"https://pybit.es/simple-flask-api.html\">How To Build a Simple API with Flask and Unit Test it</a></li>\n",
       " <li><a href=\"https://pybit.es/string-formatting.html\">Pythonic String Formatting</a></li>\n",
       " <li><a href=\"https://pybit.es/python-lookup.html\">I have been coding in Python for years and I still ...</a></li>\n",
       " <li><a href=\"https://pybit.es/pythonic-code-course-rewiew.html\">Write Pythonic Code Like a Seasoned Developer Review</a></li>\n",
       " <li><a href=\"https://pybit.es/faster-python.html\">5 tips to speed up your Python code</a></li>\n",
       " <li><a href=\"https://pybit.es/dict-ordering.html\">How to Order Dict Output in Python</a></li>\n",
       " <li><a href=\"https://pybit.es/shelve-it.html\">Shelve It!</a></li>\n",
       " <li><a href=\"https://pybit.es/matplotlib-starter.html\">Visualizing website and social media metrics with matplotlib [notebook]</a></li>\n",
       " <li><a href=\"https://pybit.es/python-resources.html\">From beginner to pro: Python books, videos and resources</a></li>\n",
       " <li><a href=\"https://pybit.es/python-help.html\">Discover Python Help Options</a></li>\n",
       " <li><a href=\"https://pybit.es/python-MIME.html\">Send Advanced Emails with Python MIME Submodules</a></li>\n",
       " <li><a href=\"https://pybit.es/pytricks-review.html\">Python Tricks book review</a></li>\n",
       " <li><a href=\"https://pybit.es/python-smtplib.html\">Send Emails with Python smtplib</a></li>\n",
       " <li><a href=\"https://pybit.es/python-data-model.html\">Python's data model by example</a></li>\n",
       " <li><a href=\"https://pybit.es/oop-primer.html\">Everything is an Object, Python OOP primer</a></li>\n",
       " <li><a href=\"https://pybit.es/python_iteration.html\">Python Iteration</a></li>\n",
       " <li><a href=\"https://pybit.es/error_handling.html\">Errors should never pass silently</a></li>\n",
       " <li><a href=\"https://pybit.es/awesome_python_resources.html\">List of Awesome Python Resources</a></li>\n",
       " <li><a href=\"https://pybit.es/itertools-examples.html\">5 cool things you can do with itertools</a></li>\n",
       " <li><a href=\"https://pybit.es/simplewebscraper.html\">Create a Simple Web Scraper with BeautifulSoup4</a></li>\n",
       " <li><a href=\"https://pybit.es/beautiful-python.html\">Beautiful, idiomatic Python</a></li>\n",
       " <li><a href=\"https://pybit.es/pyperclip.html\">Copy and Paste with Pyperclip</a></li>\n",
       " <li><a href=\"https://pybit.es/challenge_pilot_codereview.html\">Code Challenge Pilot - code review</a></li>\n",
       " <li><a href=\"https://pybit.es/js_time_scraper_ch.html\">Code Challenge Pilot - calculate total time JS course</a></li>\n",
       " <li><a href=\"https://pybit.es/grokking_algorithms.html\">A great book that makes algorithms accessible</a></li>\n",
       " <li><a href=\"https://pybit.es/pep8.html\">5 min guide to PEP8</a></li>\n",
       " <li><a href=\"https://pybit.es/naming_conventions.html\">Python Naming Conventions</a></li>\n",
       " <li><a href=\"https://pybit.es/3.6_new.html\">3.6 new features</a></li>\n",
       " <li><a href=\"https://pybit.es/indentation_tips.html\">Don't Let Indentation Catch You Out</a></li>\n",
       " <li><a href=\"https://pybit.es/automate-twitter.html\">Automate Tweeting: how to build a Twitterbot</a></li>\n",
       " <li><a href=\"https://pybit.es/py-mistakes.html\">Learning from Python mistakes</a></li>\n",
       " <li><a href=\"https://pybit.es/kindle-json-to-html.html\">How to create a nice-looking HTML page of your Kindle book highlights (notes)</a></li>\n",
       " <li><a href=\"https://pybit.es/automate_the_boring_stuff_review.html\">A Quick Automate the Boring Stuff Review</a></li>\n",
       " <li><a href=\"https://pybit.es/zip-and-ship.html\">Zip and ship, make an executable zipfile of your py project</a></li>\n",
       " <li><a href=\"https://pybit.es/blog-digest.html\">Get a weekly digest from a Pelican blog</a></li>\n",
       " <li><a href=\"https://pybit.es/py-articles-books2016.html\">2016 py articles and useful books</a></li>\n",
       " <li><a href=\"https://pybit.es/the-beauty-of-virtualenv.html\">The Beauty of Python Virtualenvs</a></li>\n",
       " <li><a href=\"https://pybit.es/collections-deque.html\">Read the stdlib: deque</a></li>\n",
       " <li><a href=\"https://pybit.es/install-me.html\">How to get PyBites up and running on your machine</a></li>\n",
       " <li><a href=\"https://pybit.es/hello-world.html\">__init__</a></li>\n",
       " </ul>]"
      ]
     },
     "execution_count": 14,
     "metadata": {},
     "output_type": "execute_result"
    }
   ],
   "source": [
    "soup.find_all('ul')"
   ]
  },
  {
   "cell_type": "markdown",
   "metadata": {},
   "source": [
    "---\n",
    "BeautifulSoup let's us drill down a bit further though to refine that list.  On further inspection, the unordered list that we are looking for is the only list that lives within the main part of the page.  "
   ]
  },
  {
   "cell_type": "code",
   "execution_count": 15,
   "metadata": {},
   "outputs": [
    {
     "data": {
      "text/plain": [
       "<ul class=\"articleList\" id=\"articleList\">\n",
       "<li><a href=\"https://pybit.es/python-interpreters.html\">A Short Primer on Assembers, Compilers and Interpreters</a></li>\n",
       "<li><a href=\"https://pybit.es/persistent-environment-variables.html\">Persistent Virtualenv Environment Variables with python-dotenv</a></li>\n",
       "<li><a href=\"https://pybit.es/howto-crack-pycon.html\">You don't need to be a Pro @ Python to crack the code of Pycon</a></li>\n",
       "<li><a href=\"https://pybit.es/career-development-programmers.html\">Career Development for Programmers</a></li>\n",
       "<li><a href=\"https://pybit.es/guest-python-orientation.html\">A Python Orientation - How to Get Started</a></li>\n",
       "<li><a href=\"https://pybit.es/guest-promotions-large-corporations.html\">How Promotions work in Large Corporations</a></li>\n",
       "<li><a href=\"https://pybit.es/guest-python-test-automation.html\">Why Python is Great for Test Automation</a></li>\n",
       "<li><a href=\"https://pybit.es/guest-anaconda-workflow.html\">My Anaconda Workflow: Python environment and package management made easy</a></li>\n",
       "<li><a href=\"https://pybit.es/nested-data-structure-exercise.html\">Watch Me Code - Solving Bite 21. Query a Nested Data Structure</a></li>\n",
       "<li><a href=\"https://pybit.es/python-and-devops.html\">Why Python is so popular in Devops?</a></li>\n",
       "<li><a href=\"https://pybit.es/python-encodings.html\">How Encoding Works in Python</a></li>\n",
       "<li><a href=\"https://pybit.es/pytest-coding-100-tests.html\">Enough pytest to be Dangerous, 10 Things I Learned Writing Tests for 100 Python (Bites of Py) Exercises</a></li>\n",
       "<li><a href=\"https://pybit.es/guest-scrapy-packt-alexa.html\">Pushing the Packt \"free book of the day\" to the world with Scrapy and Alexa</a></li>\n",
       "<li><a href=\"https://pybit.es/pycon-2018.html\">PyCon 2018 - My First PyCon</a></li>\n",
       "<li><a href=\"https://pybit.es/platform_update_20180326.html\">CodeChalleng.es Platform Update 26-Mar-2018</a></li>\n",
       "<li><a href=\"https://pybit.es/pytest-fixtures.html\">All You Need to Know to Start Using Fixtures in Your pytest Code</a></li>\n",
       "<li><a href=\"https://pybit.es/guest-pybites-blog-tag-analysis-plotly.html\">Using Feedparser, Difflib and Plotly to Analyze PyBites Blog Tags</a></li>\n",
       "<li><a href=\"https://pybit.es/special-birthday-new-platform.html\">PyBites 1 Year Special - Taking Python Code Challenges to the Next Level …</a></li>\n",
       "<li><a href=\"https://pybit.es/guest-telegram-python-chatbot.html\">DisAtBot - How I Built a Chatbot With Telegram And Python</a></li>\n",
       "<li><a href=\"https://pybit.es/guest-marvel-data-analysis.html\">Using Pandas and Seaborn to solve PyBites Marvel Challenge</a></li>\n",
       "<li><a href=\"https://pybit.es/alicante-pychallengeday.html\">5 Things we Learned Co-hosting a Live Code Challenge Workshop</a></li>\n",
       "<li><a href=\"https://pybit.es/python-cookiecutter.html\">Bootstrap Your Next Python Project With Cookiecutter</a></li>\n",
       "<li><a href=\"https://pybit.es/pdb-debugger.html\">How to Use Pdb to Debug Your Code</a></li>\n",
       "<li><a href=\"https://pybit.es/decorators-by-example.html\">Learning Python Decorators by Example</a></li>\n",
       "<li><a href=\"https://pybit.es/pytest-book.html\">Python Testing With Pytest</a></li>\n",
       "<li><a href=\"https://pybit.es/special-learning-python.html\">How to Learn Python</a></li>\n",
       "<li><a href=\"https://pybit.es/python-openpyxl.html\">PyBites Module of the Week: Openpyxl - Automate Excel!</a></li>\n",
       "<li><a href=\"https://pybit.es/python-MIME-bcc.html\">Hiding BCC Recipients in Python MIME Emails</a></li>\n",
       "<li><a href=\"https://pybit.es/bettercodehub.html\">Improve the Quality of Your Code with Better Code Hub</a></li>\n",
       "<li><a href=\"https://pybit.es/selenium-requests-automation.html\">Fully Automate Login and Banner Generation with Selenium, Requests and Click</a></li>\n",
       "<li><a href=\"https://pybit.es/pillow-banner-flask.html\">Making a Banner Generator With Pillow and Flask</a></li>\n",
       "<li><a href=\"https://pybit.es/learning-flask-django.html\">Learning Flask v Learning Django</a></li>\n",
       "<li><a href=\"https://pybit.es/pillow-banner-image.html\">Using Pillow to Create Nice Banners For Your Site</a></li>\n",
       "<li><a href=\"https://pybit.es/django-registration-app.html\">A Step by Step Guide to Implementing and Deploying Two-Phase Registration in Django</a></li>\n",
       "<li><a href=\"https://pybit.es/pexpect.html\">PyBites Module of the Week - Pexpect</a></li>\n",
       "<li><a href=\"https://pybit.es/django-python-anywhere.html\">Deploying a Django App to PythonAnywhere</a></li>\n",
       "<li><a href=\"https://pybit.es/deploy-flask-heroku.html\">Step-by-Step Guide on Deploying a Simple Flask App to Heroku</a></li>\n",
       "<li><a href=\"https://pybit.es/learning-django.html\">First Steps Learning Django: PyPlanet Article Sharer App</a></li>\n",
       "<li><a href=\"https://pybit.es/refactoring.html\">The Importance of Refactoring Code</a></li>\n",
       "<li><a href=\"https://pybit.es/special-100days-of-code.html\">200 Days of PyBites, 100 Days of Code and our Next Project</a></li>\n",
       "<li><a href=\"https://pybit.es/guest-pytrack-app.html\">From Challenge to Project - How I Made PyTrack, Learning Modules and Packaging</a></li>\n",
       "<li><a href=\"https://pybit.es/flask-ports.html\">Flask Web Server Port Mapping</a></li>\n",
       "<li><a href=\"https://pybit.es/python-packaging.html\">From Script to Project - Packaging Your Code in Python</a></li>\n",
       "<li><a href=\"https://pybit.es/slack-karma-bot.html\">Building a Karma Bot with Python and the Slack API</a></li>\n",
       "<li><a href=\"https://pybit.es/pendulum.html\">PyBites Module of the Week - Pendulum</a></li>\n",
       "<li><a href=\"https://pybit.es/twitter-api-geodata-mocking.html\">Parsing Twitter Geo Data and Mocking API Calls by Example</a></li>\n",
       "<li><a href=\"https://pybit.es/python-subclasses.html\">How to Write a Python Subclass</a></li>\n",
       "<li><a href=\"https://pybit.es/requests-session.html\">Using Python Requests on a Page Behind a Login</a></li>\n",
       "<li><a href=\"https://pybit.es/pandas-parse-html-table.html\">Next Time I Will Use Pandas to Parse Html Tables</a></li>\n",
       "<li><a href=\"https://pybit.es/flask-sessions.html\">Flask Sessions</a></li>\n",
       "<li><a href=\"https://pybit.es/property-decorator.html\">OOP Beyond the Basics: Using Properties for Encapsulation, Computation and Refactoring</a></li>\n",
       "<li><a href=\"https://pybit.es/python-classes.html\">How to Write a Python Class</a></li>\n",
       "<li><a href=\"https://pybit.es/pycon-2017.html\">PyCon 2017 - Digest, Impressions, Reflection</a></li>\n",
       "<li><a href=\"https://pybit.es/steam-notifier.html\">How to Create Your Own Steam Game Release Notifier</a></li>\n",
       "<li><a href=\"https://pybit.es/parsing-data.html\">How to Parse Common Data Formats in Python</a></li>\n",
       "<li><a href=\"https://pybit.es/flask-sqlalchemy-bday-app.html\">Building a Simple Birthday App with Flask-SQLAlchemy</a></li>\n",
       "<li><a href=\"https://pybit.es/guest-learning-apis.html\">Learning Python by Building a Wisdom Quotes App</a></li>\n",
       "<li><a href=\"https://pybit.es/download-xml-file.html\">How to Download an XML File with Python</a></li>\n",
       "<li><a href=\"https://pybit.es/guest-making-of-task-manager.html\">The making of my Task Manager App for the PyBites Code Challenge</a></li>\n",
       "<li><a href=\"https://pybit.es/learn-by-doing.html\">Learn Python by Coding for Yourself</a></li>\n",
       "<li><a href=\"https://pybit.es/twitter-monitor-slack-notify.html\">How to Write a Simple Slack Bot to Monitor Your Brand on Twitter</a></li>\n",
       "<li><a href=\"https://pybit.es/flask-simple-weather-app.html\">Simple Flask app to compare the weather of 2 cities</a></li>\n",
       "<li><a href=\"https://pybit.es/special-building-pybites.html\">Behind the Scenes of PyBites - a Blog for Passionate Pythonistas (Post #100 Special)</a></li>\n",
       "<li><a href=\"https://pybit.es/beginning-flask.html\">Beginning Flask</a></li>\n",
       "<li><a href=\"https://pybit.es/decorator-optional-argument.html\">How to Write a Decorator with an Optional Argument?</a></li>\n",
       "<li><a href=\"https://pybit.es/flask-for-loop.html\">Flask for Loops - Printing Dict Data</a></li>\n",
       "<li><a href=\"https://pybit.es/100days-autotweet.html\">How we Automated our 100DaysOfCode Daily Tweet</a></li>\n",
       "<li><a href=\"https://pybit.es/simple-chatbot.html\">How to Build a Simple Slack Bot</a></li>\n",
       "<li><a href=\"https://pybit.es/special-100days.html\">100 Days of PyBites, 100 Days of Code</a></li>\n",
       "<li><a href=\"https://pybit.es/vim-tricks.html\">5 Vim Tricks to Speed up Your Python Development</a></li>\n",
       "<li><a href=\"https://pybit.es/ipaddress.html\">PyBites Module of the Week - ipaddress</a></li>\n",
       "<li><a href=\"https://pybit.es/python-porting.html\">Best Practices for Compatible Python 2 and 3 Code</a></li>\n",
       "<li><a href=\"https://pybit.es/generators.html\">Generators are Awesome, Learning by Example</a></li>\n",
       "<li><a href=\"https://pybit.es/mastering-regex.html\">10 Tips to Get More out of Your Regexes</a></li>\n",
       "<li><a href=\"https://pybit.es/requests-cache.html\">PyBites Module of the Week - Requests-cache for Repeated API Calls</a></li>\n",
       "<li><a href=\"https://pybit.es/flask-api-part2.html\">Simple API Part 2 - Building a Deep Work Logger with Flask, Slack and Google Docs</a></li>\n",
       "<li><a href=\"https://pybit.es/comparing_lists.html\">Comparing Lists with Difflib</a></li>\n",
       "<li><a href=\"https://pybit.es/mutability.html\">Don't let mutability of compound objects fool you!</a></li>\n",
       "<li><a href=\"https://pybit.es/simple-flask-api.html\">How To Build a Simple API with Flask and Unit Test it</a></li>\n",
       "<li><a href=\"https://pybit.es/string-formatting.html\">Pythonic String Formatting</a></li>\n",
       "<li><a href=\"https://pybit.es/python-lookup.html\">I have been coding in Python for years and I still ...</a></li>\n",
       "<li><a href=\"https://pybit.es/pythonic-code-course-rewiew.html\">Write Pythonic Code Like a Seasoned Developer Review</a></li>\n",
       "<li><a href=\"https://pybit.es/faster-python.html\">5 tips to speed up your Python code</a></li>\n",
       "<li><a href=\"https://pybit.es/dict-ordering.html\">How to Order Dict Output in Python</a></li>\n",
       "<li><a href=\"https://pybit.es/shelve-it.html\">Shelve It!</a></li>\n",
       "<li><a href=\"https://pybit.es/matplotlib-starter.html\">Visualizing website and social media metrics with matplotlib [notebook]</a></li>\n",
       "<li><a href=\"https://pybit.es/python-resources.html\">From beginner to pro: Python books, videos and resources</a></li>\n",
       "<li><a href=\"https://pybit.es/python-help.html\">Discover Python Help Options</a></li>\n",
       "<li><a href=\"https://pybit.es/python-MIME.html\">Send Advanced Emails with Python MIME Submodules</a></li>\n",
       "<li><a href=\"https://pybit.es/pytricks-review.html\">Python Tricks book review</a></li>\n",
       "<li><a href=\"https://pybit.es/python-smtplib.html\">Send Emails with Python smtplib</a></li>\n",
       "<li><a href=\"https://pybit.es/python-data-model.html\">Python's data model by example</a></li>\n",
       "<li><a href=\"https://pybit.es/oop-primer.html\">Everything is an Object, Python OOP primer</a></li>\n",
       "<li><a href=\"https://pybit.es/python_iteration.html\">Python Iteration</a></li>\n",
       "<li><a href=\"https://pybit.es/error_handling.html\">Errors should never pass silently</a></li>\n",
       "<li><a href=\"https://pybit.es/awesome_python_resources.html\">List of Awesome Python Resources</a></li>\n",
       "<li><a href=\"https://pybit.es/itertools-examples.html\">5 cool things you can do with itertools</a></li>\n",
       "<li><a href=\"https://pybit.es/simplewebscraper.html\">Create a Simple Web Scraper with BeautifulSoup4</a></li>\n",
       "<li><a href=\"https://pybit.es/beautiful-python.html\">Beautiful, idiomatic Python</a></li>\n",
       "<li><a href=\"https://pybit.es/pyperclip.html\">Copy and Paste with Pyperclip</a></li>\n",
       "<li><a href=\"https://pybit.es/challenge_pilot_codereview.html\">Code Challenge Pilot - code review</a></li>\n",
       "<li><a href=\"https://pybit.es/js_time_scraper_ch.html\">Code Challenge Pilot - calculate total time JS course</a></li>\n",
       "<li><a href=\"https://pybit.es/grokking_algorithms.html\">A great book that makes algorithms accessible</a></li>\n",
       "<li><a href=\"https://pybit.es/pep8.html\">5 min guide to PEP8</a></li>\n",
       "<li><a href=\"https://pybit.es/naming_conventions.html\">Python Naming Conventions</a></li>\n",
       "<li><a href=\"https://pybit.es/3.6_new.html\">3.6 new features</a></li>\n",
       "<li><a href=\"https://pybit.es/indentation_tips.html\">Don't Let Indentation Catch You Out</a></li>\n",
       "<li><a href=\"https://pybit.es/automate-twitter.html\">Automate Tweeting: how to build a Twitterbot</a></li>\n",
       "<li><a href=\"https://pybit.es/py-mistakes.html\">Learning from Python mistakes</a></li>\n",
       "<li><a href=\"https://pybit.es/kindle-json-to-html.html\">How to create a nice-looking HTML page of your Kindle book highlights (notes)</a></li>\n",
       "<li><a href=\"https://pybit.es/automate_the_boring_stuff_review.html\">A Quick Automate the Boring Stuff Review</a></li>\n",
       "<li><a href=\"https://pybit.es/zip-and-ship.html\">Zip and ship, make an executable zipfile of your py project</a></li>\n",
       "<li><a href=\"https://pybit.es/blog-digest.html\">Get a weekly digest from a Pelican blog</a></li>\n",
       "<li><a href=\"https://pybit.es/py-articles-books2016.html\">2016 py articles and useful books</a></li>\n",
       "<li><a href=\"https://pybit.es/the-beauty-of-virtualenv.html\">The Beauty of Python Virtualenvs</a></li>\n",
       "<li><a href=\"https://pybit.es/collections-deque.html\">Read the stdlib: deque</a></li>\n",
       "<li><a href=\"https://pybit.es/install-me.html\">How to get PyBites up and running on your machine</a></li>\n",
       "<li><a href=\"https://pybit.es/hello-world.html\">__init__</a></li>\n",
       "</ul>"
      ]
     },
     "execution_count": 15,
     "metadata": {},
     "output_type": "execute_result"
    }
   ],
   "source": [
    "soup.main.ul"
   ]
  },
  {
   "cell_type": "markdown",
   "metadata": {},
   "source": [
    "---\n",
    "Another method we could use is to store all of the list elements and then iterate over that and print out only the string portion."
   ]
  },
  {
   "cell_type": "code",
   "execution_count": 16,
   "metadata": {},
   "outputs": [],
   "source": [
    "all_li = soup.main.find_all('li')"
   ]
  },
  {
   "cell_type": "code",
   "execution_count": 17,
   "metadata": {},
   "outputs": [
    {
     "name": "stdout",
     "output_type": "stream",
     "text": [
      "A Short Primer on Assembers, Compilers and Interpreters\n",
      "Persistent Virtualenv Environment Variables with python-dotenv\n",
      "You don't need to be a Pro @ Python to crack the code of Pycon\n",
      "Career Development for Programmers\n",
      "A Python Orientation - How to Get Started\n",
      "How Promotions work in Large Corporations\n",
      "Why Python is Great for Test Automation\n",
      "My Anaconda Workflow: Python environment and package management made easy\n",
      "Watch Me Code - Solving Bite 21. Query a Nested Data Structure\n",
      "Why Python is so popular in Devops?\n",
      "How Encoding Works in Python\n",
      "Enough pytest to be Dangerous, 10 Things I Learned Writing Tests for 100 Python (Bites of Py) Exercises\n",
      "Pushing the Packt \"free book of the day\" to the world with Scrapy and Alexa\n",
      "PyCon 2018 - My First PyCon\n",
      "CodeChalleng.es Platform Update 26-Mar-2018\n",
      "All You Need to Know to Start Using Fixtures in Your pytest Code\n",
      "Using Feedparser, Difflib and Plotly to Analyze PyBites Blog Tags\n",
      "PyBites 1 Year Special - Taking Python Code Challenges to the Next Level …\n",
      "DisAtBot - How I Built a Chatbot With Telegram And Python\n",
      "Using Pandas and Seaborn to solve PyBites Marvel Challenge\n",
      "5 Things we Learned Co-hosting a Live Code Challenge Workshop\n",
      "Bootstrap Your Next Python Project With Cookiecutter\n",
      "How to Use Pdb to Debug Your Code\n",
      "Learning Python Decorators by Example\n",
      "Python Testing With Pytest\n",
      "How to Learn Python\n",
      "PyBites Module of the Week: Openpyxl - Automate Excel!\n",
      "Hiding BCC Recipients in Python MIME Emails\n",
      "Improve the Quality of Your Code with Better Code Hub\n",
      "Fully Automate Login and Banner Generation with Selenium, Requests and Click\n",
      "Making a Banner Generator With Pillow and Flask\n",
      "Learning Flask v Learning Django\n",
      "Using Pillow to Create Nice Banners For Your Site\n",
      "A Step by Step Guide to Implementing and Deploying Two-Phase Registration in Django\n",
      "PyBites Module of the Week - Pexpect\n",
      "Deploying a Django App to PythonAnywhere\n",
      "Step-by-Step Guide on Deploying a Simple Flask App to Heroku\n",
      "First Steps Learning Django: PyPlanet Article Sharer App\n",
      "The Importance of Refactoring Code\n",
      "200 Days of PyBites, 100 Days of Code and our Next Project\n",
      "From Challenge to Project - How I Made PyTrack, Learning Modules and Packaging\n",
      "Flask Web Server Port Mapping\n",
      "From Script to Project - Packaging Your Code in Python\n",
      "Building a Karma Bot with Python and the Slack API\n",
      "PyBites Module of the Week - Pendulum\n",
      "Parsing Twitter Geo Data and Mocking API Calls by Example\n",
      "How to Write a Python Subclass\n",
      "Using Python Requests on a Page Behind a Login\n",
      "Next Time I Will Use Pandas to Parse Html Tables\n",
      "Flask Sessions\n",
      "OOP Beyond the Basics: Using Properties for Encapsulation, Computation and Refactoring\n",
      "How to Write a Python Class\n",
      "PyCon 2017 - Digest, Impressions, Reflection\n",
      "How to Create Your Own Steam Game Release Notifier\n",
      "How to Parse Common Data Formats in Python\n",
      "Building a Simple Birthday App with Flask-SQLAlchemy\n",
      "Learning Python by Building a Wisdom Quotes App\n",
      "How to Download an XML File with Python\n",
      "The making of my Task Manager App for the PyBites Code Challenge\n",
      "Learn Python by Coding for Yourself\n",
      "How to Write a Simple Slack Bot to Monitor Your Brand on Twitter\n",
      "Simple Flask app to compare the weather of 2 cities\n",
      "Behind the Scenes of PyBites - a Blog for Passionate Pythonistas (Post #100 Special)\n",
      "Beginning Flask\n",
      "How to Write a Decorator with an Optional Argument?\n",
      "Flask for Loops - Printing Dict Data\n",
      "How we Automated our 100DaysOfCode Daily Tweet\n",
      "How to Build a Simple Slack Bot\n",
      "100 Days of PyBites, 100 Days of Code\n",
      "5 Vim Tricks to Speed up Your Python Development\n",
      "PyBites Module of the Week - ipaddress\n",
      "Best Practices for Compatible Python 2 and 3 Code\n",
      "Generators are Awesome, Learning by Example\n",
      "10 Tips to Get More out of Your Regexes\n",
      "PyBites Module of the Week - Requests-cache for Repeated API Calls\n",
      "Simple API Part 2 - Building a Deep Work Logger with Flask, Slack and Google Docs\n",
      "Comparing Lists with Difflib\n",
      "Don't let mutability of compound objects fool you!\n",
      "How To Build a Simple API with Flask and Unit Test it\n",
      "Pythonic String Formatting\n",
      "I have been coding in Python for years and I still ...\n",
      "Write Pythonic Code Like a Seasoned Developer Review\n",
      "5 tips to speed up your Python code\n",
      "How to Order Dict Output in Python\n",
      "Shelve It!\n",
      "Visualizing website and social media metrics with matplotlib [notebook]\n",
      "From beginner to pro: Python books, videos and resources\n",
      "Discover Python Help Options\n",
      "Send Advanced Emails with Python MIME Submodules\n",
      "Python Tricks book review\n",
      "Send Emails with Python smtplib\n",
      "Python's data model by example\n",
      "Everything is an Object, Python OOP primer\n",
      "Python Iteration\n",
      "Errors should never pass silently\n",
      "List of Awesome Python Resources\n",
      "5 cool things you can do with itertools\n",
      "Create a Simple Web Scraper with BeautifulSoup4\n",
      "Beautiful, idiomatic Python\n",
      "Copy and Paste with Pyperclip\n",
      "Code Challenge Pilot - code review\n",
      "Code Challenge Pilot - calculate total time JS course\n",
      "A great book that makes algorithms accessible\n",
      "5 min guide to PEP8\n",
      "Python Naming Conventions\n",
      "3.6 new features\n",
      "Don't Let Indentation Catch You Out\n",
      "Automate Tweeting: how to build a Twitterbot\n",
      "Learning from Python mistakes\n",
      "How to create a nice-looking HTML page of your Kindle book highlights (notes)\n",
      "A Quick Automate the Boring Stuff Review\n",
      "Zip and ship, make an executable zipfile of your py project\n",
      "Get a weekly digest from a Pelican blog\n",
      "2016 py articles and useful books\n",
      "The Beauty of Python Virtualenvs\n",
      "Read the stdlib: deque\n",
      "How to get PyBites up and running on your machine\n",
      "__init__\n"
     ]
    }
   ],
   "source": [
    "for item in all_li:\n",
    "    print(item.string)"
   ]
  },
  {
   "cell_type": "code",
   "execution_count": 18,
   "metadata": {},
   "outputs": [
    {
     "data": {
      "text/plain": [
       "118"
      ]
     },
     "execution_count": 18,
     "metadata": {},
     "output_type": "execute_result"
    }
   ],
   "source": [
    "len(all_li)"
   ]
  }
 ],
 "metadata": {
  "kernelspec": {
   "display_name": "Python 3",
   "language": "python",
   "name": "python3"
  },
  "language_info": {
   "codemirror_mode": {
    "name": "ipython",
    "version": 3
   },
   "file_extension": ".py",
   "mimetype": "text/x-python",
   "name": "python",
   "nbconvert_exporter": "python",
   "pygments_lexer": "ipython3",
   "version": "3.6.3"
  }
 },
 "nbformat": 4,
 "nbformat_minor": 2
}
