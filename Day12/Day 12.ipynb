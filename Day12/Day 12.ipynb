{
 "cells": [
  {
   "cell_type": "markdown",
   "metadata": {},
   "source": [
    "### Day 12!\n",
    "\n",
    "---\n",
    "Today is more testing.  In particular, using pytest and [fixtures](https://docs.pytest.org/en/latest/fixture.html).\n",
    "\n",
    "The additional video used for tonight comes from [codebasics](https://www.youtube.com/watch?v=IVrGz8w0H8c). "
   ]
  }
 ],
 "metadata": {
  "kernelspec": {
   "display_name": "Python 3",
   "language": "python",
   "name": "python3"
  },
  "language_info": {
   "codemirror_mode": {
    "name": "ipython",
    "version": 3
   },
   "file_extension": ".py",
   "mimetype": "text/x-python",
   "name": "python",
   "nbconvert_exporter": "python",
   "pygments_lexer": "ipython3",
   "version": "3.6.3"
  }
 },
 "nbformat": 4,
 "nbformat_minor": 2
}
