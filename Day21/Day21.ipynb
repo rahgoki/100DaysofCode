{
 "cells": [
  {
   "cell_type": "markdown",
   "metadata": {},
   "source": [
    "### In Day 21, we continue to work with [itertools](https://docs.python.org/3/library/itertools.html#itertools.starmap) \n",
    "\n",
    "[Bite 64](https://codechalleng.es/bites/promo/itertools-fun1)"
   ]
  },
  {
   "cell_type": "code",
   "execution_count": 1,
   "metadata": {
    "collapsed": true
   },
   "outputs": [],
   "source": [
    "import itertools"
   ]
  },
  {
   "cell_type": "code",
   "execution_count": 2,
   "metadata": {
    "collapsed": true
   },
   "outputs": [],
   "source": [
    "names = 'Tim Bob Julian Carmen Sofia Mike Kim Andre'.split()\n",
    "locations = 'DE ES AUS NL BR US'.split()\n",
    "confirmed = [False, True, True, False, True]"
   ]
  },
  {
   "cell_type": "code",
   "execution_count": 3,
   "metadata": {
    "collapsed": true
   },
   "outputs": [],
   "source": [
    "def get_attendees():\n",
    "    for participant in zip(names, locations, confirmed):\n",
    "        print(participant)"
   ]
  },
  {
   "cell_type": "markdown",
   "metadata": {},
   "source": [
    "---\n",
    "We're missing Mike, Kim and Andre?  It looks like Zip() stops when there is a null value in _ANY_ of the lists.  "
   ]
  },
  {
   "cell_type": "code",
   "execution_count": 4,
   "metadata": {},
   "outputs": [
    {
     "name": "stdout",
     "output_type": "stream",
     "text": [
      "('Tim', 'DE', False)\n",
      "('Bob', 'ES', True)\n",
      "('Julian', 'AUS', True)\n",
      "('Carmen', 'NL', False)\n",
      "('Sofia', 'BR', True)\n"
     ]
    }
   ],
   "source": [
    "get_attendees()"
   ]
  },
  {
   "cell_type": "markdown",
   "metadata": {},
   "source": [
    "---\n",
    "Itertools has a nice solution for this!  Let's change our function - \n",
    "slightly.  "
   ]
  },
  {
   "cell_type": "code",
   "execution_count": 5,
   "metadata": {
    "collapsed": true
   },
   "outputs": [],
   "source": [
    "def get_all_atendees():\n",
    "    for participant in itertools.zip_longest(names, locations, confirmed, fillvalue='-'):\n",
    "        print(participant)"
   ]
  },
  {
   "cell_type": "code",
   "execution_count": 6,
   "metadata": {},
   "outputs": [
    {
     "name": "stdout",
     "output_type": "stream",
     "text": [
      "('Tim', 'DE', False)\n",
      "('Bob', 'ES', True)\n",
      "('Julian', 'AUS', True)\n",
      "('Carmen', 'NL', False)\n",
      "('Sofia', 'BR', True)\n",
      "('Mike', 'US', '-')\n",
      "('Kim', '-', '-')\n",
      "('Andre', '-', '-')\n"
     ]
    }
   ],
   "source": [
    "get_all_atendees()"
   ]
  },
  {
   "cell_type": "markdown",
   "metadata": {},
   "source": [
    "---\n",
    "When iterating over uneven lists, use zip_longest() :)"
   ]
  },
  {
   "cell_type": "code",
   "execution_count": null,
   "metadata": {
    "collapsed": true
   },
   "outputs": [],
   "source": []
  }
 ],
 "metadata": {
  "kernelspec": {
   "display_name": "Python 3",
   "language": "python",
   "name": "python3"
  },
  "language_info": {
   "codemirror_mode": {
    "name": "ipython",
    "version": 3
   },
   "file_extension": ".py",
   "mimetype": "text/x-python",
   "name": "python",
   "nbconvert_exporter": "python",
   "pygments_lexer": "ipython3",
   "version": "3.6.3"
  }
 },
 "nbformat": 4,
 "nbformat_minor": 2
}
