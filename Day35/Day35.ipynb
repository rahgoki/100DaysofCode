{
 "cells": [
  {
   "cell_type": "markdown",
   "metadata": {},
   "source": [
    "### Day 35!  Continuing with Refactoring and Pythonic Code.  \n",
    "\n",
    "10 ways to write better code for common pitfalls.\n",
    "\n",
    "### 6. List comprehensions and generators"
   ]
  },
  {
   "cell_type": "code",
   "execution_count": 1,
   "metadata": {
    "collapsed": true
   },
   "outputs": [],
   "source": [
    "days = 'Monday Tuesday Wednesday Thursday Friday Saturday Sunday'.split()"
   ]
  },
  {
   "cell_type": "markdown",
   "metadata": {},
   "source": [
    "---\n",
    "This is how we could get all of the days that start with the letter _T_"
   ]
  },
  {
   "cell_type": "code",
   "execution_count": 2,
   "metadata": {},
   "outputs": [
    {
     "data": {
      "text/plain": [
       "['Tuesday', 'Thursday']"
      ]
     },
     "execution_count": 2,
     "metadata": {},
     "output_type": "execute_result"
    }
   ],
   "source": [
    "def get_t_days(days=days):\n",
    "    t_days = []\n",
    "    for day in days:\n",
    "        if day[0].lower() == 't':\n",
    "            t_days.append(day)\n",
    "    return t_days\n",
    "\n",
    "get_t_days()"
   ]
  },
  {
   "cell_type": "code",
   "execution_count": 10,
   "metadata": {},
   "outputs": [
    {
     "data": {
      "text/plain": [
       "['Tuesday', 'Thursday']"
      ]
     },
     "execution_count": 10,
     "metadata": {},
     "output_type": "execute_result"
    }
   ],
   "source": [
    "def get_t_days(days=days):\n",
    "    return [day for day in days if day[0].lower()=='t']\n",
    "\n",
    "get_t_days()"
   ]
  },
  {
   "cell_type": "markdown",
   "metadata": {},
   "source": [
    "---\n",
    "Or a generator:"
   ]
  },
  {
   "cell_type": "code",
   "execution_count": 11,
   "metadata": {},
   "outputs": [
    {
     "data": {
      "text/plain": [
       "['Tuesday', 'Thursday']"
      ]
     },
     "execution_count": 11,
     "metadata": {},
     "output_type": "execute_result"
    }
   ],
   "source": [
    "def get_t_days_gen(days=days):\n",
    "    for day in days:\n",
    "        if day[0].lower() == 't':\n",
    "            yield day\n",
    "\n",
    "list(get_t_days_gen())"
   ]
  },
  {
   "cell_type": "markdown",
   "metadata": {},
   "source": [
    "### 7. String formatting"
   ]
  },
  {
   "cell_type": "code",
   "execution_count": 15,
   "metadata": {},
   "outputs": [
    {
     "name": "stdout",
     "output_type": "stream",
     "text": [
      "The course tkes 6 hours to complete\n"
     ]
    }
   ],
   "source": [
    "total_hours = 6\n",
    "print('The course tkes ' + str(total_hours) + ' hours to complete')"
   ]
  },
  {
   "cell_type": "markdown",
   "metadata": {},
   "source": [
    "---\n",
    "F strings are the way to go though...much cleaner and easier to read!  In addition to elegance, you can also perform operations and other goodies. "
   ]
  },
  {
   "cell_type": "code",
   "execution_count": 16,
   "metadata": {},
   "outputs": [
    {
     "name": "stdout",
     "output_type": "stream",
     "text": [
      "This course takes 6 to complete\n"
     ]
    }
   ],
   "source": [
    "print(f'This course takes {total_hours} to complete')"
   ]
  },
  {
   "cell_type": "code",
   "execution_count": 17,
   "metadata": {},
   "outputs": [
    {
     "name": "stdout",
     "output_type": "stream",
     "text": [
      "This course takes 8 hours to complete\n"
     ]
    }
   ],
   "source": [
    "print(f'This course takes {total_hours+2} hours to complete')"
   ]
  },
  {
   "cell_type": "markdown",
   "metadata": {},
   "source": [
    "---\n",
    "Another common string formatting issue is concatenation:"
   ]
  },
  {
   "cell_type": "code",
   "execution_count": 18,
   "metadata": {},
   "outputs": [
    {
     "data": {
      "text/plain": [
       "'hello world today I am happy because I am writing Python code '"
      ]
     },
     "execution_count": 18,
     "metadata": {},
     "output_type": "execute_result"
    }
   ],
   "source": [
    "s = 'hello world '\n",
    "s += 'today I am happy '\n",
    "s += 'because I am writing Python code '\n",
    "s"
   ]
  },
  {
   "cell_type": "markdown",
   "metadata": {},
   "source": [
    "---\n",
    "The pythonic way would be store these snipets in a list and then _join_ them"
   ]
  },
  {
   "cell_type": "code",
   "execution_count": 19,
   "metadata": {
    "collapsed": true
   },
   "outputs": [],
   "source": [
    "lst = ['hello world ', 'today I am happy ', 'because I am writing Python code']"
   ]
  },
  {
   "cell_type": "code",
   "execution_count": 20,
   "metadata": {},
   "outputs": [
    {
     "data": {
      "text/plain": [
       "'hello world today I am happy because I am writing Python code'"
      ]
     },
     "execution_count": 20,
     "metadata": {},
     "output_type": "execute_result"
    }
   ],
   "source": [
    "''.join(lst)"
   ]
  },
  {
   "cell_type": "markdown",
   "metadata": {},
   "source": [
    "---\n",
    "### 8. PEP8 and Zen of Python\n",
    "\n",
    "[PEP8](https://www.python.org/dev/peps/pep-0008/) is the style guide for Python.  \n",
    "[Pybites](https://pybit.es/pep8.html) has a nice summary.   \n",
    "Kenneth Reitz put together a nice _stylized_ presentation of the guidelines at [pep8.org](https://pep8.org)"
   ]
  },
  {
   "cell_type": "code",
   "execution_count": 21,
   "metadata": {},
   "outputs": [
    {
     "name": "stdout",
     "output_type": "stream",
     "text": [
      "The Zen of Python, by Tim Peters\n",
      "\n",
      "Beautiful is better than ugly.\n",
      "Explicit is better than implicit.\n",
      "Simple is better than complex.\n",
      "Complex is better than complicated.\n",
      "Flat is better than nested.\n",
      "Sparse is better than dense.\n",
      "Readability counts.\n",
      "Special cases aren't special enough to break the rules.\n",
      "Although practicality beats purity.\n",
      "Errors should never pass silently.\n",
      "Unless explicitly silenced.\n",
      "In the face of ambiguity, refuse the temptation to guess.\n",
      "There should be one-- and preferably only one --obvious way to do it.\n",
      "Although that way may not be obvious at first unless you're Dutch.\n",
      "Now is better than never.\n",
      "Although never is often better than *right* now.\n",
      "If the implementation is hard to explain, it's a bad idea.\n",
      "If the implementation is easy to explain, it may be a good idea.\n",
      "Namespaces are one honking great idea -- let's do more of those!\n"
     ]
    }
   ],
   "source": [
    "import this"
   ]
  },
  {
   "cell_type": "markdown",
   "metadata": {},
   "source": [
    "### 9. Explicit is better than implicit\n",
    "\n",
    "A lot of bugs can be attributed to implict code.  \n",
    "\n",
    "* avoid from module import *, you might get variable/function name clashes leading to obscure bugs\n",
    "\n",
    "* make sure each function returns a consistent type. Functions are like APIs, they are the contract between the developer and the enduser (function caller). If you build up a list of items for example and there are none, return [], not None or False.\n",
    "\n",
    "* errors should not pass silently, see next ..."
   ]
  },
  {
   "cell_type": "code",
   "execution_count": 22,
   "metadata": {},
   "outputs": [
    {
     "name": "stdout",
     "output_type": "stream",
     "text": [
      "we are going to do some tricky operation\n"
     ]
    }
   ],
   "source": [
    "try:\n",
    "    print('we are going to do some tricky operation')\n",
    "except:\n",
    "    pass"
   ]
  },
  {
   "cell_type": "markdown",
   "metadata": {},
   "source": [
    "---\n",
    "Rather than muting all exeptions or attempting to structure code to avoid some pitfalls...we can explicitly raise exceptions.  "
   ]
  },
  {
   "cell_type": "code",
   "execution_count": 28,
   "metadata": {
    "collapsed": true
   },
   "outputs": [],
   "source": [
    "def calc_values_improved(num1, num2):\n",
    "    try:\n",
    "        ret = num1/num2\n",
    "    except ZeroDivisionError:\n",
    "        print('cannot divde by zero')\n",
    "        return 0\n",
    "    except TypeError:\n",
    "        print('check if all input variables are int')\n",
    "        raise\n",
    "    except Exception as e:\n",
    "        print(f'other exception: {e}, reraising')\n",
    "        raise"
   ]
  },
  {
   "cell_type": "code",
   "execution_count": 26,
   "metadata": {},
   "outputs": [
    {
     "name": "stdout",
     "output_type": "stream",
     "text": [
      "cannot divde by zero\n"
     ]
    },
    {
     "data": {
      "text/plain": [
       "0"
      ]
     },
     "execution_count": 26,
     "metadata": {},
     "output_type": "execute_result"
    }
   ],
   "source": [
    "calc_values_improved(1,0)"
   ]
  },
  {
   "cell_type": "code",
   "execution_count": 29,
   "metadata": {},
   "outputs": [
    {
     "name": "stdout",
     "output_type": "stream",
     "text": [
      "check if all input variables are int\n"
     ]
    },
    {
     "ename": "TypeError",
     "evalue": "unsupported operand type(s) for /: 'int' and 'str'",
     "output_type": "error",
     "traceback": [
      "\u001b[0;31m---------------------------------------------------------------------------\u001b[0m",
      "\u001b[0;31mTypeError\u001b[0m                                 Traceback (most recent call last)",
      "\u001b[0;32m<ipython-input-29-4ae6a34aeb7b>\u001b[0m in \u001b[0;36m<module>\u001b[0;34m()\u001b[0m\n\u001b[0;32m----> 1\u001b[0;31m \u001b[0mcalc_values_improved\u001b[0m\u001b[0;34m(\u001b[0m\u001b[0;36m5\u001b[0m\u001b[0;34m,\u001b[0m \u001b[0;34m'1'\u001b[0m\u001b[0;34m)\u001b[0m\u001b[0;34m\u001b[0m\u001b[0m\n\u001b[0m",
      "\u001b[0;32m<ipython-input-28-a53f50067cf6>\u001b[0m in \u001b[0;36mcalc_values_improved\u001b[0;34m(num1, num2)\u001b[0m\n\u001b[1;32m      1\u001b[0m \u001b[0;32mdef\u001b[0m \u001b[0mcalc_values_improved\u001b[0m\u001b[0;34m(\u001b[0m\u001b[0mnum1\u001b[0m\u001b[0;34m,\u001b[0m \u001b[0mnum2\u001b[0m\u001b[0;34m)\u001b[0m\u001b[0;34m:\u001b[0m\u001b[0;34m\u001b[0m\u001b[0m\n\u001b[1;32m      2\u001b[0m     \u001b[0;32mtry\u001b[0m\u001b[0;34m:\u001b[0m\u001b[0;34m\u001b[0m\u001b[0m\n\u001b[0;32m----> 3\u001b[0;31m         \u001b[0mret\u001b[0m \u001b[0;34m=\u001b[0m \u001b[0mnum1\u001b[0m\u001b[0;34m/\u001b[0m\u001b[0mnum2\u001b[0m\u001b[0;34m\u001b[0m\u001b[0m\n\u001b[0m\u001b[1;32m      4\u001b[0m     \u001b[0;32mexcept\u001b[0m \u001b[0mZeroDivisionError\u001b[0m\u001b[0;34m:\u001b[0m\u001b[0;34m\u001b[0m\u001b[0m\n\u001b[1;32m      5\u001b[0m         \u001b[0mprint\u001b[0m\u001b[0;34m(\u001b[0m\u001b[0;34m'cannot divde by zero'\u001b[0m\u001b[0;34m)\u001b[0m\u001b[0;34m\u001b[0m\u001b[0m\n",
      "\u001b[0;31mTypeError\u001b[0m: unsupported operand type(s) for /: 'int' and 'str'"
     ]
    }
   ],
   "source": [
    "calc_values_improved(5, '1')"
   ]
  },
  {
   "cell_type": "markdown",
   "metadata": {},
   "source": [
    "### 10. General best practices\n",
    "\n",
    "In [10 guidelines that will make you write more maintainable software](https://bobbelderbos.com/2016/03/building-maintainable-software/) I reviewed Software Improvement Group's book on the topic. Quality code boils down to:\n",
    "1. Write Short Units of Code - Short units are easier to understand.\n",
    "2. Write Simple Units of Code - Simple units are easier to test.\n",
    "3. Write Code Once - Duplicated code means duplicated bugs and duplicating changes.\n",
    "4. Keep Unit Interfaces Small - Units with small interfaces are easier to reuse.\n",
    "5. Separate Concerns in Modules - Modules with a single responsibility are easier to change.\n",
    "6. Couple Architecture Components Loosely - Independent components can be maintained in isolation.\n",
    "7. Keep Architecture Components Balanced - A balanced architecture makes it easier to find your way.\n",
    "8. Keep Your Codebase Small - A small codebase requires less effort to maintain.\n",
    "9. Automate Tests - Automated tests are repeatable, and help to prevent bugs.\n",
    "10. Write Clean Code - “Leave the campground cleaner than you found it.”\n",
    "\n",
    "\n",
    "See also [Improve the Quality of Your Code with Better Code Hub](https://pybit.es/bettercodehub.html)\n",
    "\n",
    "### Further Reading:\n",
    "\n",
    "***Related PyBites articles***\n",
    "* [The Importance of Refactoring Code](https://pybit.es/refactoring.html)\n",
    "* [Errors should never pass silently](https://pybit.es/error_handling.html)\n",
    "* [Learning from Python mistakes](https://pybit.es/py-mistakes.html)\n",
    "* [Pythonic String Formatting](https://pybit.es/string-formatting.html)\n",
    "* [Beautiful, idiomatic Python](https://pybit.es/beautiful-python.html)\n",
    "* [From Script to Project - Packaging Your Code in Python](https://pybit.es/python-packaging.html)\n",
    "\n",
    "***Refactoring / quality code***\n",
    "\n",
    "* [Martin Fowler's refactoring](https://martinfowler.com/books/refactoring.html)\n",
    "* [Bob Martin's Clean Code](https://www.amazon.com/Clean-Code-Handbook-Software-Craftsmanship/dp/0132350882)"
   ]
  },
  {
   "cell_type": "code",
   "execution_count": null,
   "metadata": {
    "collapsed": true
   },
   "outputs": [],
   "source": []
  }
 ],
 "metadata": {
  "kernelspec": {
   "display_name": "Python 3",
   "language": "python",
   "name": "python3"
  },
  "language_info": {
   "codemirror_mode": {
    "name": "ipython",
    "version": 3
   },
   "file_extension": ".py",
   "mimetype": "text/x-python",
   "name": "python",
   "nbconvert_exporter": "python",
   "pygments_lexer": "ipython3",
   "version": "3.6.3"
  }
 },
 "nbformat": 4,
 "nbformat_minor": 2
}
