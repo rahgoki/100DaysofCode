{
 "cells": [
  {
   "cell_type": "markdown",
   "metadata": {},
   "source": [
    "### Day 10 introduces testing and test driven development(TDD).  \n",
    "\n",
    "The main library we will use is [Pytest](https://docs.pytest.org/en/latest/).   \n",
    "[Pytest Coverage](https://pytest-cov.readthedocs.io/en/latest/) was used as well.\n",
    "\n",
    "---\n",
    "We start with our test script.  Using the decorator @pytest.mark.parametrize <-- (spelling) we can pass a tuple into assert preventing rewriting the test over and over."
   ]
  },
  {
   "cell_type": "code",
   "execution_count": 1,
   "metadata": {
    "collapsed": true
   },
   "outputs": [],
   "source": [
    "import pytest\n",
    "\n",
    "#from fizzbuzz import fizzbuzz\n",
    "\n",
    "@pytest.mark.parametrize(\"arg, ret\", [\n",
    "    (1, 1),\n",
    "    (2, 2),\n",
    "    (3, 'Fizz'),\n",
    "    (4, 4),\n",
    "    (5, 'Buzz'),\n",
    "    (6, 'Fizz'),\n",
    "    (7, 7),\n",
    "    (8, 8),\n",
    "    (9, 'Fizz'),\n",
    "    (10, 'Buzz'),\n",
    "    (11, 11),\n",
    "    (12, 'Fizz'),\n",
    "    (13, 13),\n",
    "    (14, 14),\n",
    "    (15, 'Fizz Buzz'),\n",
    "])\n",
    "\n",
    "def test_fizbuzz(arg, ret):\n",
    "    assert fizzbuzz(arg) == ret\n"
   ]
  },
  {
   "cell_type": "markdown",
   "metadata": {},
   "source": [
    "---\n",
    "Our fizzbuzz method is very simple.  [TDD](https://en.wikipedia.org/wiki/Test-driven_development) has the potential to help produce code that has a better overall design.  "
   ]
  },
  {
   "cell_type": "code",
   "execution_count": 2,
   "metadata": {
    "collapsed": true
   },
   "outputs": [],
   "source": [
    "def fizzbuzz(n):\n",
    "    if n % 3 == 0 and n % 5 == 0:\n",
    "        return 'Fizz Buzz'\n",
    "    if n % 3 == 0:\n",
    "        return 'Fizz'\n",
    "    if n % 5 == 0:\n",
    "        return 'Buzz'\n",
    "    return n\n"
   ]
  }
 ],
 "metadata": {
  "kernelspec": {
   "display_name": "Python 3",
   "language": "python",
   "name": "python3"
  },
  "language_info": {
   "codemirror_mode": {
    "name": "ipython",
    "version": 3
   },
   "file_extension": ".py",
   "mimetype": "text/x-python",
   "name": "python",
   "nbconvert_exporter": "python",
   "pygments_lexer": "ipython3",
   "version": "3.6.3"
  }
 },
 "nbformat": 4,
 "nbformat_minor": 2
}
