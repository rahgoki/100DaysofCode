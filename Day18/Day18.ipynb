{
 "cells": [
  {
   "cell_type": "markdown",
   "metadata": {},
   "source": [
    "---\n",
    "### We have made it to Day 18!!  \n",
    "Today we wrap up list comprehension and generators by working on [Bite 5](https://codechalleng.es/bites/5/) on PyBites. "
   ]
  },
  {
   "cell_type": "code",
   "execution_count": 1,
   "metadata": {
    "collapsed": true
   },
   "outputs": [],
   "source": [
    "names = ['arnold schwarzenegger', 'alec baldwin', 'bob belderbos',\n",
    "         'julian sequeira', 'sandra bullock', 'keanu reeves',\n",
    "         'julbob pybites', 'bob belderbos', 'julian sequeira',\n",
    "         'al pacino', 'brad pitt', 'matt damon', 'brad pitt']\n"
   ]
  },
  {
   "cell_type": "markdown",
   "metadata": {},
   "source": [
    "---\n",
    "Looking forward to seeing a better solution...this works though! "
   ]
  },
  {
   "cell_type": "code",
   "execution_count": 8,
   "metadata": {},
   "outputs": [
    {
     "data": {
      "text/plain": [
       "['Sandra Bullock',\n",
       " 'Alec Baldwin',\n",
       " 'Bob Belderbos',\n",
       " 'Julian Sequeira',\n",
       " 'Brad Pitt',\n",
       " 'Keanu Reeves',\n",
       " 'Al Pacino',\n",
       " 'Matt Damon',\n",
       " 'Julbob Pybites',\n",
       " 'Arnold Schwarzenegger']"
      ]
     },
     "execution_count": 8,
     "metadata": {},
     "output_type": "execute_result"
    }
   ],
   "source": [
    "def dedup_and_title_case_names(names):\n",
    "    \"\"\"Should return a list of names, each name appears only once\"\"\"\n",
    "    uniqueNames = list(set(names))\n",
    "    return [uniqueName.title() for uniqueName in uniqueNames]\n",
    "\n",
    "dedup_and_title_case_names(names)"
   ]
  },
  {
   "cell_type": "markdown",
   "metadata": {},
   "source": [
    "---\n",
    "A few resources to document:\n",
    "  \n",
    "PyDocs [Sorting](https://docs.python.org/3/howto/sorting.html) \n",
    "  \n",
    "StackOverflow [Sorting Question](https://stackoverflow.com/questions/20459982/how-to-sort-a-list-alphabetically-by-the-second-word-in-a-string)"
   ]
  },
  {
   "cell_type": "code",
   "execution_count": 6,
   "metadata": {},
   "outputs": [
    {
     "data": {
      "text/plain": [
       "['Julian Sequeira',\n",
       " 'Arnold Schwarzenegger',\n",
       " 'Keanu Reeves',\n",
       " 'Julbob Pybites',\n",
       " 'Brad Pitt',\n",
       " 'Al Pacino',\n",
       " 'Matt Damon',\n",
       " 'Sandra Bullock',\n",
       " 'Bob Belderbos',\n",
       " 'Alec Baldwin']"
      ]
     },
     "execution_count": 6,
     "metadata": {},
     "output_type": "execute_result"
    }
   ],
   "source": [
    "def sort_by_surname_desc(names):\n",
    "    \"\"\"Returns names list sorted desc by surname\"\"\"\n",
    "    names = dedup_and_title_case_names(names)\n",
    "    return sorted(sorted(names), key=lambda n: n.split()[1], reverse=True)\n",
    "\n",
    "sort_by_surname_desc(names)"
   ]
  },
  {
   "cell_type": "markdown",
   "metadata": {},
   "source": [
    "---\n",
    "As I was writing this I noticed that my original 2 lines could easily be reduced to 1!  "
   ]
  },
  {
   "cell_type": "code",
   "execution_count": 5,
   "metadata": {},
   "outputs": [
    {
     "data": {
      "text/plain": [
       "'Al'"
      ]
     },
     "execution_count": 5,
     "metadata": {},
     "output_type": "execute_result"
    }
   ],
   "source": [
    "def shortest_first_name(names):\n",
    "    \"\"\"Returns the shortest first name (str)\"\"\"\n",
    "    names = dedup_and_title_case_names(names)\n",
    "    return min([firstName.split()[0] for firstName in names])\n",
    "\n",
    "shortest_first_name(names)"
   ]
  }
 ],
 "metadata": {
  "kernelspec": {
   "display_name": "Python 3",
   "language": "python",
   "name": "python3"
  },
  "language_info": {
   "codemirror_mode": {
    "name": "ipython",
    "version": 3
   },
   "file_extension": ".py",
   "mimetype": "text/x-python",
   "name": "python",
   "nbconvert_exporter": "python",
   "pygments_lexer": "ipython3",
   "version": "3.6.3"
  }
 },
 "nbformat": 4,
 "nbformat_minor": 2
}
