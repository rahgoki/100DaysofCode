{
 "cells": [
  {
   "cell_type": "markdown",
   "metadata": {},
   "source": [
    "### Day 22!  Let's talk about [decorators](https://realpython.com/primer-on-python-decorators/)."
   ]
  },
  {
   "cell_type": "code",
   "execution_count": 1,
   "metadata": {
    "collapsed": true
   },
   "outputs": [],
   "source": [
    "from functools import wraps\n",
    "import time"
   ]
  },
  {
   "cell_type": "markdown",
   "metadata": {},
   "source": [
    "---\n",
    "Basic template for defining a decorator.  The decorator will have an inner function."
   ]
  },
  {
   "cell_type": "code",
   "execution_count": 2,
   "metadata": {
    "collapsed": true
   },
   "outputs": [],
   "source": [
    "def mydecorator(function):\n",
    "    @wraps(function)\n",
    "    def wrapper(*args, **kwargs):\n",
    "        # do something before the original function is called\n",
    "        # call the passed in function\n",
    "        result = function(*args, **kwargs)\n",
    "        return result\n",
    "    # return wrapper = decorated function\n",
    "    return wrapper "
   ]
  },
  {
   "cell_type": "markdown",
   "metadata": {},
   "source": [
    "---\n",
    "We can then use the decorator to _wrap_ our function."
   ]
  },
  {
   "cell_type": "code",
   "execution_count": 3,
   "metadata": {
    "collapsed": true
   },
   "outputs": [],
   "source": [
    "@mydecorator\n",
    "def my_function(args):\n",
    "    pass"
   ]
  },
  {
   "cell_type": "markdown",
   "metadata": {},
   "source": [
    "---\n",
    "\n",
    "args and kwargs...\n",
    "TalkPython [Notebook](https://github.com/talkpython/100daysofcode-with-python-course/blob/master/days/22-24-decorators/decorators.ipynb)\n",
    "  \n",
    "Note in Python there are different ways to pass arguments to functions, see this great [guide](http://docs.python-guide.org/en/latest/writing/style/#function-arguments) for more info and a quick example here:"
   ]
  },
  {
   "cell_type": "code",
   "execution_count": 4,
   "metadata": {
    "collapsed": true
   },
   "outputs": [],
   "source": [
    "def get_profile(name, active=True, *sports, **awards):\n",
    "    print('Positional arguments (required): ', name)\n",
    "    print('Keyword arguments (not required, default values): ', active)\n",
    "    print('Arbitrary argument list (sports): ', sports)\n",
    "    print('Arbitrary keyword argument dictionary (awards): ', awards)"
   ]
  },
  {
   "cell_type": "code",
   "execution_count": 5,
   "metadata": {},
   "outputs": [
    {
     "ename": "TypeError",
     "evalue": "get_profile() missing 1 required positional argument: 'name'",
     "output_type": "error",
     "traceback": [
      "\u001b[0;31m---------------------------------------------------------------------------\u001b[0m",
      "\u001b[0;31mTypeError\u001b[0m                                 Traceback (most recent call last)",
      "\u001b[0;32m<ipython-input-5-a4889792e4ca>\u001b[0m in \u001b[0;36m<module>\u001b[0;34m()\u001b[0m\n\u001b[0;32m----> 1\u001b[0;31m \u001b[0mget_profile\u001b[0m\u001b[0;34m(\u001b[0m\u001b[0;34m)\u001b[0m\u001b[0;34m\u001b[0m\u001b[0m\n\u001b[0m",
      "\u001b[0;31mTypeError\u001b[0m: get_profile() missing 1 required positional argument: 'name'"
     ]
    }
   ],
   "source": [
    "get_profile()"
   ]
  },
  {
   "cell_type": "code",
   "execution_count": 6,
   "metadata": {},
   "outputs": [
    {
     "name": "stdout",
     "output_type": "stream",
     "text": [
      "Positional arguments (required):  justin\n",
      "Keyword arguments (not required, default values):  True\n",
      "Arbitrary argument list (sports):  ()\n",
      "Arbitrary keyword argument dictionary (awards):  {}\n"
     ]
    }
   ],
   "source": [
    "get_profile('justin')"
   ]
  },
  {
   "cell_type": "code",
   "execution_count": 7,
   "metadata": {},
   "outputs": [
    {
     "name": "stdout",
     "output_type": "stream",
     "text": [
      "Positional arguments (required):  justin\n",
      "Keyword arguments (not required, default values):  False\n",
      "Arbitrary argument list (sports):  ()\n",
      "Arbitrary keyword argument dictionary (awards):  {}\n"
     ]
    }
   ],
   "source": [
    "get_profile('justin', active=False)"
   ]
  },
  {
   "cell_type": "markdown",
   "metadata": {},
   "source": [
    "When we pass a list or dictionary into the function, we drop the keyword syntax and only pass the value."
   ]
  },
  {
   "cell_type": "code",
   "execution_count": 8,
   "metadata": {},
   "outputs": [
    {
     "ename": "SyntaxError",
     "evalue": "positional argument follows keyword argument (<ipython-input-8-10efad970da1>, line 1)",
     "output_type": "error",
     "traceback": [
      "\u001b[0;36m  File \u001b[0;32m\"<ipython-input-8-10efad970da1>\"\u001b[0;36m, line \u001b[0;32m1\u001b[0m\n\u001b[0;31m    get_profile('justin', active=True, 'baseball')\u001b[0m\n\u001b[0m                                      ^\u001b[0m\n\u001b[0;31mSyntaxError\u001b[0m\u001b[0;31m:\u001b[0m positional argument follows keyword argument\n"
     ]
    }
   ],
   "source": [
    "get_profile('justin', active=True, 'baseball')"
   ]
  },
  {
   "cell_type": "code",
   "execution_count": 9,
   "metadata": {},
   "outputs": [
    {
     "name": "stdout",
     "output_type": "stream",
     "text": [
      "Positional arguments (required):  justin\n",
      "Keyword arguments (not required, default values):  True\n",
      "Arbitrary argument list (sports):  ('baseball',)\n",
      "Arbitrary keyword argument dictionary (awards):  {}\n"
     ]
    }
   ],
   "source": [
    "get_profile('justin', True, 'baseball')"
   ]
  },
  {
   "cell_type": "code",
   "execution_count": 11,
   "metadata": {},
   "outputs": [
    {
     "name": "stdout",
     "output_type": "stream",
     "text": [
      "Positional arguments (required):  justin\n",
      "Keyword arguments (not required, default values):  True\n",
      "Arbitrary argument list (sports):  ('baseball',)\n",
      "Arbitrary keyword argument dictionary (awards):  {'pythonista': 'special honor'}\n"
     ]
    }
   ],
   "source": [
    "get_profile('justin', True, 'baseball', pythonista='special honor')"
   ]
  }
 ],
 "metadata": {
  "kernelspec": {
   "display_name": "Python 3",
   "language": "python",
   "name": "python3"
  },
  "language_info": {
   "codemirror_mode": {
    "name": "ipython",
    "version": 3
   },
   "file_extension": ".py",
   "mimetype": "text/x-python",
   "name": "python",
   "nbconvert_exporter": "python",
   "pygments_lexer": "ipython3",
   "version": "3.6.3"
  }
 },
 "nbformat": 4,
 "nbformat_minor": 2
}
