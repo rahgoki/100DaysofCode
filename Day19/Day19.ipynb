{
 "cells": [
  {
   "cell_type": "markdown",
   "metadata": {},
   "source": [
    "### Day 19!  Getting close to the 25% point!  \n",
    "\n",
    "Today is about itertools and iteration operations.\n",
    "\n",
    "The modules we will use are [sys](https://docs.python.org/3/library/sys.html), [time](https://docs.python.org/3/library/time.html) and [itertools](https://docs.python.org/3/library/itertools.html).  "
   ]
  },
  {
   "cell_type": "code",
   "execution_count": 9,
   "metadata": {
    "collapsed": true
   },
   "outputs": [],
   "source": [
    "import sys\n",
    "import time\n",
    "import itertools\n",
    "from itertools import product\n",
    "from itertools import combinations, permutations"
   ]
  },
  {
   "cell_type": "markdown",
   "metadata": {},
   "source": [
    "---\n",
    "What's cool about using cycle() instead of simply iter() is that resets and is an easy way of looping through an interable!  \n",
    "\n",
    "We will use the sys.stdout.write with the r escape sequence so that each iteration will \"print\" over itself without a new line or appending to a string. "
   ]
  },
  {
   "cell_type": "code",
   "execution_count": 2,
   "metadata": {
    "collapsed": true
   },
   "outputs": [],
   "source": [
    "symbols = itertools.cycle('-\\|/')"
   ]
  },
  {
   "cell_type": "code",
   "execution_count": 3,
   "metadata": {},
   "outputs": [
    {
     "name": "stdout",
     "output_type": "stream",
     "text": [
      "\\"
     ]
    }
   ],
   "source": [
    "for i in range(10):\n",
    "    sys.stdout.write('\\r' + next(symbols))\n",
    "    sys.stdout.flush()\n",
    "    time.sleep(0.1)"
   ]
  },
  {
   "cell_type": "markdown",
   "metadata": {},
   "source": [
    "---\n",
    "Product() makes permutations quite easy! It is short for [Cartesian Product](https://en.wikipedia.org/wiki/Cartesian_product).\n",
    "  \n",
    "Repeat is the number of combinations you want...they stack up quickly!"
   ]
  },
  {
   "cell_type": "code",
   "execution_count": 6,
   "metadata": {},
   "outputs": [
    {
     "name": "stdout",
     "output_type": "stream",
     "text": [
      "('J', 'J')\n",
      "('J', 'u')\n",
      "('J', 's')\n",
      "('J', 't')\n",
      "('J', 'i')\n",
      "('J', 'n')\n",
      "('u', 'J')\n",
      "('u', 'u')\n",
      "('u', 's')\n",
      "('u', 't')\n",
      "('u', 'i')\n",
      "('u', 'n')\n",
      "('s', 'J')\n",
      "('s', 'u')\n",
      "('s', 's')\n",
      "('s', 't')\n",
      "('s', 'i')\n",
      "('s', 'n')\n",
      "('t', 'J')\n",
      "('t', 'u')\n",
      "('t', 's')\n",
      "('t', 't')\n",
      "('t', 'i')\n",
      "('t', 'n')\n",
      "('i', 'J')\n",
      "('i', 'u')\n",
      "('i', 's')\n",
      "('i', 't')\n",
      "('i', 'i')\n",
      "('i', 'n')\n",
      "('n', 'J')\n",
      "('n', 'u')\n",
      "('n', 's')\n",
      "('n', 't')\n",
      "('n', 'i')\n",
      "('n', 'n')\n"
     ]
    }
   ],
   "source": [
    "for letter in product(\"Justin\", repeat=2): print(letter)"
   ]
  },
  {
   "cell_type": "markdown",
   "metadata": {},
   "source": [
    "---\n",
    "A couple of things to note using product.  \n",
    "**1).** Order was preserved.  'J' & 'u' appeared twice as a combination - ('J', 'u') & ('u', 'J')\n",
    "**2).** Because of the above, the number of permutations can be quite lengthy."
   ]
  },
  {
   "cell_type": "code",
   "execution_count": 7,
   "metadata": {},
   "outputs": [
    {
     "data": {
      "text/plain": [
       "36"
      ]
     },
     "execution_count": 7,
     "metadata": {},
     "output_type": "execute_result"
    }
   ],
   "source": [
    "len([_ for _ in product(\"justin\", repeat=2)])"
   ]
  },
  {
   "cell_type": "markdown",
   "metadata": {},
   "source": [
    "---\n",
    "Let's contrast that with combinations() and see how much smaller our list is.\n",
    "\n",
    "Combinations returns a itertools.combinations object and we will convert it to a list to make things easier.   "
   ]
  },
  {
   "cell_type": "code",
   "execution_count": 10,
   "metadata": {},
   "outputs": [
    {
     "data": {
      "text/plain": [
       "15"
      ]
     },
     "execution_count": 10,
     "metadata": {},
     "output_type": "execute_result"
    }
   ],
   "source": [
    "len(list(combinations(\"justin\", 2)))"
   ]
  },
  {
   "cell_type": "code",
   "execution_count": 11,
   "metadata": {},
   "outputs": [
    {
     "data": {
      "text/plain": [
       "[('j', 'u'),\n",
       " ('j', 's'),\n",
       " ('j', 't'),\n",
       " ('j', 'i'),\n",
       " ('j', 'n'),\n",
       " ('u', 's'),\n",
       " ('u', 't'),\n",
       " ('u', 'i'),\n",
       " ('u', 'n'),\n",
       " ('s', 't'),\n",
       " ('s', 'i'),\n",
       " ('s', 'n'),\n",
       " ('t', 'i'),\n",
       " ('t', 'n'),\n",
       " ('i', 'n')]"
      ]
     },
     "execution_count": 11,
     "metadata": {},
     "output_type": "execute_result"
    }
   ],
   "source": [
    "list(combinations(\"justin\", 2))"
   ]
  },
  {
   "cell_type": "markdown",
   "metadata": {},
   "source": [
    "---\n",
    "Another similar approach to product is permutations()\n",
    "\n",
    "The biggest difference is that permutations doesn't keep the repeated values like product() did.  For example, J appeared twice using product, but itself isn't a valid permutation."
   ]
  },
  {
   "cell_type": "code",
   "execution_count": 12,
   "metadata": {},
   "outputs": [
    {
     "data": {
      "text/plain": [
       "30"
      ]
     },
     "execution_count": 12,
     "metadata": {},
     "output_type": "execute_result"
    }
   ],
   "source": [
    "len(list(permutations(\"justin\", 2)))"
   ]
  },
  {
   "cell_type": "code",
   "execution_count": 13,
   "metadata": {},
   "outputs": [
    {
     "data": {
      "text/plain": [
       "[('j', 'u'),\n",
       " ('j', 's'),\n",
       " ('j', 't'),\n",
       " ('j', 'i'),\n",
       " ('j', 'n'),\n",
       " ('u', 'j'),\n",
       " ('u', 's'),\n",
       " ('u', 't'),\n",
       " ('u', 'i'),\n",
       " ('u', 'n'),\n",
       " ('s', 'j'),\n",
       " ('s', 'u'),\n",
       " ('s', 't'),\n",
       " ('s', 'i'),\n",
       " ('s', 'n'),\n",
       " ('t', 'j'),\n",
       " ('t', 'u'),\n",
       " ('t', 's'),\n",
       " ('t', 'i'),\n",
       " ('t', 'n'),\n",
       " ('i', 'j'),\n",
       " ('i', 'u'),\n",
       " ('i', 's'),\n",
       " ('i', 't'),\n",
       " ('i', 'n'),\n",
       " ('n', 'j'),\n",
       " ('n', 'u'),\n",
       " ('n', 's'),\n",
       " ('n', 't'),\n",
       " ('n', 'i')]"
      ]
     },
     "execution_count": 13,
     "metadata": {},
     "output_type": "execute_result"
    }
   ],
   "source": [
    "list(permutations(\"justin\", 2))"
   ]
  }
 ],
 "metadata": {
  "kernelspec": {
   "display_name": "Python 3",
   "language": "python",
   "name": "python3"
  },
  "language_info": {
   "codemirror_mode": {
    "name": "ipython",
    "version": 3
   },
   "file_extension": ".py",
   "mimetype": "text/x-python",
   "name": "python",
   "nbconvert_exporter": "python",
   "pygments_lexer": "ipython3",
   "version": "3.6.3"
  }
 },
 "nbformat": 4,
 "nbformat_minor": 2
}
