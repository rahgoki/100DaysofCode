{
 "cells": [
  {
   "cell_type": "markdown",
   "metadata": {},
   "source": [
    "## Day 8 was [pybite 21](https://codechalleng.es/bites/21/) nested data structures"
   ]
  },
  {
   "cell_type": "markdown",
   "metadata": {},
   "source": [
    "---\n",
    "dictionary we'll work with."
   ]
  },
  {
   "cell_type": "code",
   "execution_count": 1,
   "metadata": {
    "collapsed": true
   },
   "outputs": [],
   "source": [
    "cars = {\n",
    "    'Ford': ['Falcon', 'Focus', 'Festiva', 'Fairlane'],\n",
    "    'Holden': ['Commodore', 'Captiva', 'Barina', 'Trailblazer'],\n",
    "    'Nissan': ['Maxima', 'Pulsar', '350Z', 'Navara'],\n",
    "    'Honda': ['Civic', 'Accord', 'Odyssey', 'Jazz'],\n",
    "    'Jeep': ['Grand Cherokee', 'Cherokee', 'Trailhawk', 'Trackhawk']\n",
    "}"
   ]
  },
  {
   "cell_type": "markdown",
   "metadata": {},
   "source": [
    "----\n",
    "### 1. Return a comma  + space (', ') separated string of jeep models (original order)"
   ]
  },
  {
   "cell_type": "code",
   "execution_count": 2,
   "metadata": {
    "collapsed": true
   },
   "outputs": [],
   "source": [
    "def get_all_jeeps():\n",
    "    jeepString = ''\n",
    "    jeeps = cars.get('Jeep')\n",
    "    for jeep in jeeps:\n",
    "        jeepString += (f'{jeep}, ')\n",
    "    jeepString = jeepString [:-2]\n",
    "    return jeepString"
   ]
  },
  {
   "cell_type": "code",
   "execution_count": 3,
   "metadata": {},
   "outputs": [
    {
     "data": {
      "text/plain": [
       "'Grand Cherokee, Cherokee, Trailhawk, Trackhawk'"
      ]
     },
     "execution_count": 3,
     "metadata": {},
     "output_type": "execute_result"
    }
   ],
   "source": [
    "get_all_jeeps()"
   ]
  },
  {
   "cell_type": "markdown",
   "metadata": {},
   "source": [
    "---\n",
    "### 2. Return a list of matching models (original ordering)"
   ]
  },
  {
   "cell_type": "code",
   "execution_count": 4,
   "metadata": {
    "collapsed": true
   },
   "outputs": [],
   "source": [
    "def get_first_model_each_manufacturer():\n",
    "    firstModList = []\n",
    "    for car in cars:\n",
    "        manufacturer = cars.get(car)\n",
    "        firstModList.append(manufacturer[0])\n",
    "    return firstModList"
   ]
  },
  {
   "cell_type": "code",
   "execution_count": 5,
   "metadata": {},
   "outputs": [
    {
     "data": {
      "text/plain": [
       "['Falcon', 'Commodore', 'Maxima', 'Civic', 'Grand Cherokee']"
      ]
     },
     "execution_count": 5,
     "metadata": {},
     "output_type": "execute_result"
    }
   ],
   "source": [
    "get_first_model_each_manufacturer()"
   ]
  },
  {
   "cell_type": "markdown",
   "metadata": {},
   "source": [
    "---\n",
    "### 3. Return a list of all models containing the case insensitive 'grep' string which defaults to 'trail' for this exercise, sort the resulting sequence alphabetically"
   ]
  },
  {
   "cell_type": "code",
   "execution_count": 6,
   "metadata": {
    "collapsed": true
   },
   "outputs": [],
   "source": [
    "def get_all_matching_models(grep='trail'):\n",
    "    matching_models = []\n",
    "    for models in cars.values():\n",
    "        for model in models:\n",
    "            if grep.lower() in model.lower():\n",
    "                matching_models.append(model)\n",
    "    return sorted(matching_models)"
   ]
  },
  {
   "cell_type": "code",
   "execution_count": 7,
   "metadata": {},
   "outputs": [
    {
     "data": {
      "text/plain": [
       "['Trailblazer', 'Trailhawk']"
      ]
     },
     "execution_count": 7,
     "metadata": {},
     "output_type": "execute_result"
    }
   ],
   "source": [
    "get_all_matching_models()"
   ]
  },
  {
   "cell_type": "markdown",
   "metadata": {},
   "source": [
    "---\n",
    "### 4. Sort the car models (values) and return the resulting cars dict\n",
    "\n",
    "I learned quite a bit with this one from the solution [video](https://pybit.es/nested-data-structure-exercise.html). "
   ]
  },
  {
   "cell_type": "code",
   "execution_count": 9,
   "metadata": {},
   "outputs": [],
   "source": [
    "def sort_car_models():\n",
    "    return {manufacturer: sorted(models) for manufacturer, models in cars.items()}"
   ]
  },
  {
   "cell_type": "code",
   "execution_count": 10,
   "metadata": {},
   "outputs": [
    {
     "data": {
      "text/plain": [
       "{'Ford': ['Fairlane', 'Falcon', 'Festiva', 'Focus'],\n",
       " 'Holden': ['Barina', 'Captiva', 'Commodore', 'Trailblazer'],\n",
       " 'Honda': ['Accord', 'Civic', 'Jazz', 'Odyssey'],\n",
       " 'Jeep': ['Cherokee', 'Grand Cherokee', 'Trackhawk', 'Trailhawk'],\n",
       " 'Nissan': ['350Z', 'Maxima', 'Navara', 'Pulsar']}"
      ]
     },
     "execution_count": 10,
     "metadata": {},
     "output_type": "execute_result"
    }
   ],
   "source": [
    "sort_car_models()"
   ]
  }
 ],
 "metadata": {
  "kernelspec": {
   "display_name": "Python 3",
   "language": "python",
   "name": "python3"
  },
  "language_info": {
   "codemirror_mode": {
    "name": "ipython",
    "version": 3
   },
   "file_extension": ".py",
   "mimetype": "text/x-python",
   "name": "python",
   "nbconvert_exporter": "python",
   "pygments_lexer": "ipython3",
   "version": "3.6.3"
  }
 },
 "nbformat": 4,
 "nbformat_minor": 2
}
